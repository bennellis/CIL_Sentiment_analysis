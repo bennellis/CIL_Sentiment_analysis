{
 "cells": [
  {
   "cell_type": "code",
   "id": "initial_id",
   "metadata": {
    "collapsed": true,
    "ExecuteTime": {
     "end_time": "2025-05-16T11:24:52.968029Z",
     "start_time": "2025-05-16T11:24:29.443667Z"
    }
   },
   "source": [
    "import os\n",
    "import torch\n",
    "import pandas as pd\n",
    "\n",
    "from torch.utils.data import DataLoader\n",
    "\n",
    "\n",
    "from Hyperparameters.Embeddings.BertTokenEmbedder import BertTokenEmbedder\n",
    "from Hyperparameters.Dataloader.EmbeddingDataset import EmbeddingDataset\n",
    "from Hyperparameters.Dataloader.collate_fn import collate_fn\n",
    "\n",
    "from Hyperparameters.Plotting.PlotEmbeddings import extract_all_embeddings_and_labels, datashader_plot, project_umap\n",
    "\n",
    "\n"
   ],
   "outputs": [
    {
     "name": "stderr",
     "output_type": "stream",
     "text": [
      "C:\\Users\\Bruce\\anaconda3\\envs\\CIL\\Lib\\site-packages\\requests\\__init__.py:86: RequestsDependencyWarning: Unable to find acceptable character detection dependency (chardet or charset_normalizer).\n",
      "  warnings.warn(\n"
     ]
    }
   ],
   "execution_count": 1
  },
  {
   "metadata": {
    "ExecuteTime": {
     "end_time": "2025-05-16T11:26:19.878378Z",
     "start_time": "2025-05-16T11:26:19.874992Z"
    }
   },
   "cell_type": "code",
   "source": [
    "seed = 42\n",
    "\n",
    "## Model Parameters\n",
    "prefix = \"../\"\n",
    "model_name=\"FacebookAI/roberta-base\"\n",
    "csv_path= prefix + \"data/Sentiment/training.csv\""
   ],
   "id": "8f016334b1f38804",
   "outputs": [],
   "execution_count": 6
  },
  {
   "metadata": {
    "ExecuteTime": {
     "end_time": "2025-05-16T11:24:53.980083Z",
     "start_time": "2025-05-16T11:24:52.975798Z"
    }
   },
   "cell_type": "code",
   "source": "embedder = BertTokenEmbedder(model_name)",
   "id": "7ba51ea3ffb65bbf",
   "outputs": [
    {
     "name": "stderr",
     "output_type": "stream",
     "text": [
      "Some weights of RobertaForSequenceClassification were not initialized from the model checkpoint at FacebookAI/roberta-base and are newly initialized: ['classifier.dense.bias', 'classifier.dense.weight', 'classifier.out_proj.bias', 'classifier.out_proj.weight']\n",
      "You should probably TRAIN this model on a down-stream task to be able to use it for predictions and inference.\n"
     ]
    }
   ],
   "execution_count": 3
  },
  {
   "metadata": {
    "ExecuteTime": {
     "end_time": "2025-05-16T11:26:26.316283Z",
     "start_time": "2025-05-16T11:26:23.336426Z"
    }
   },
   "cell_type": "code",
   "source": [
    "\n",
    "embedded_feature_dataset = None\n",
    "\n",
    "if embedder.is_variable_length:\n",
    "\n",
    "    cache_name= model_name.replace(\"/\", \"_\")\n",
    "    cache_path = prefix + \"cache/\" + cache_name\n",
    "    emb_dataset_path = cache_path + \"emb_dataset.pt\"\n",
    "\n",
    "\n",
    "    if os.path.exists(emb_dataset_path):\n",
    "      \n",
    "        embedded_feature_dataset = torch.load(emb_dataset_path, weights_only=False)\n",
    "    else:\n",
    "        \n",
    "        df = pd.read_csv(csv_path, index_col=0)\n",
    "        label_map = {'negative': -1, 'neutral': 0, 'positive': 1}\n",
    "        df['label_encoded'] = df['label'].map(label_map)\n",
    "        \n",
    "        features = embedder.fit_transform(df['sentence'].to_list())\n",
    "        labels = df['label_encoded'].to_numpy()\n",
    "\n",
    "        feature_dataset = EmbeddingDataset(features, labels)\n",
    "        \n",
    "        feature_dataloader = DataLoader(feature_dataset, batch_size=8,collate_fn=collate_fn)\n",
    "        embedded_feature_dataset = embedder.embed_dataset(feature_dataloader)\n",
    "        os.makedirs(\"cache\", exist_ok=True)\n",
    "        torch.save(embedded_feature_dataset, emb_dataset_path)\n",
    "\n",
    "else:\n",
    "    raise Exception(\"blaalalal\")"
   ],
   "id": "24b6a960d67c7957",
   "outputs": [],
   "execution_count": 7
  },
  {
   "metadata": {
    "ExecuteTime": {
     "end_time": "2025-05-16T11:28:45.713717Z",
     "start_time": "2025-05-16T11:27:43.458827Z"
    }
   },
   "cell_type": "code",
   "source": [
    "embs, labels = extract_all_embeddings_and_labels(embedded_feature_dataset)\n",
    "embs_2d = project_umap(embs)\n",
    "datashader_plot(embs_2d, labels)"
   ],
   "id": "2ba61a4a8083e326",
   "outputs": [
    {
     "name": "stdout",
     "output_type": "stream",
     "text": [
      "Error accessing index 102097 - max index is 102096\n"
     ]
    },
    {
     "name": "stderr",
     "output_type": "stream",
     "text": [
      "C:\\Users\\Bruce\\anaconda3\\envs\\CIL\\Lib\\site-packages\\sklearn\\utils\\deprecation.py:151: FutureWarning: 'force_all_finite' was renamed to 'ensure_all_finite' in 1.6 and will be removed in 1.8.\n",
      "  warnings.warn(\n",
      "C:\\Users\\Bruce\\anaconda3\\envs\\CIL\\Lib\\site-packages\\umap\\umap_.py:1952: UserWarning: n_jobs value 1 overridden to 1 by setting random_state. Use no seed for parallelism.\n",
      "  warn(\n"
     ]
    },
    {
     "ename": "KeyboardInterrupt",
     "evalue": "",
     "output_type": "error",
     "traceback": [
      "\u001B[31m---------------------------------------------------------------------------\u001B[39m",
      "\u001B[31mKeyboardInterrupt\u001B[39m                         Traceback (most recent call last)",
      "\u001B[36mCell\u001B[39m\u001B[36m \u001B[39m\u001B[32mIn[9]\u001B[39m\u001B[32m, line 2\u001B[39m\n\u001B[32m      1\u001B[39m embs, labels = extract_all_embeddings_and_labels(embedded_feature_dataset)\n\u001B[32m----> \u001B[39m\u001B[32m2\u001B[39m embs_2d = project_umap(embs)\n\u001B[32m      3\u001B[39m datashader_plot(embs_2d, labels)\n",
      "\u001B[36mFile \u001B[39m\u001B[32m~\\PycharmProjects\\CIL_Sentiment_analysis\\Hyperparameters\\Plotting\\PlotEmbeddings.py:23\u001B[39m, in \u001B[36mproject_umap\u001B[39m\u001B[34m(embeddings)\u001B[39m\n\u001B[32m     21\u001B[39m \u001B[38;5;28;01mdef\u001B[39;00m\u001B[38;5;250m \u001B[39m\u001B[34mproject_umap\u001B[39m(embeddings):\n\u001B[32m     22\u001B[39m     reducer = umap.UMAP(n_neighbors=\u001B[32m15\u001B[39m, min_dist=\u001B[32m0.1\u001B[39m, random_state=\u001B[32m42\u001B[39m)\n\u001B[32m---> \u001B[39m\u001B[32m23\u001B[39m     \u001B[38;5;28;01mreturn\u001B[39;00m reducer.fit_transform(embeddings)\n",
      "\u001B[36mFile \u001B[39m\u001B[32m~\\anaconda3\\envs\\CIL\\Lib\\site-packages\\umap\\umap_.py:2928\u001B[39m, in \u001B[36mUMAP.fit_transform\u001B[39m\u001B[34m(self, X, y, force_all_finite, **kwargs)\u001B[39m\n\u001B[32m   2890\u001B[39m \u001B[38;5;28;01mdef\u001B[39;00m\u001B[38;5;250m \u001B[39m\u001B[34mfit_transform\u001B[39m(\u001B[38;5;28mself\u001B[39m, X, y=\u001B[38;5;28;01mNone\u001B[39;00m, force_all_finite=\u001B[38;5;28;01mTrue\u001B[39;00m, **kwargs):\n\u001B[32m   2891\u001B[39m \u001B[38;5;250m    \u001B[39m\u001B[33;03m\"\"\"Fit X into an embedded space and return that transformed\u001B[39;00m\n\u001B[32m   2892\u001B[39m \u001B[33;03m    output.\u001B[39;00m\n\u001B[32m   2893\u001B[39m \n\u001B[32m   (...)\u001B[39m\u001B[32m   2926\u001B[39m \u001B[33;03m        Local radii of data points in the embedding (log-transformed).\u001B[39;00m\n\u001B[32m   2927\u001B[39m \u001B[33;03m    \"\"\"\u001B[39;00m\n\u001B[32m-> \u001B[39m\u001B[32m2928\u001B[39m     \u001B[38;5;28mself\u001B[39m.fit(X, y, force_all_finite, **kwargs)\n\u001B[32m   2929\u001B[39m     \u001B[38;5;28;01mif\u001B[39;00m \u001B[38;5;28mself\u001B[39m.transform_mode == \u001B[33m\"\u001B[39m\u001B[33membedding\u001B[39m\u001B[33m\"\u001B[39m:\n\u001B[32m   2930\u001B[39m         \u001B[38;5;28;01mif\u001B[39;00m \u001B[38;5;28mself\u001B[39m.output_dens:\n",
      "\u001B[36mFile \u001B[39m\u001B[32m~\\anaconda3\\envs\\CIL\\Lib\\site-packages\\umap\\umap_.py:2817\u001B[39m, in \u001B[36mUMAP.fit\u001B[39m\u001B[34m(self, X, y, force_all_finite, **kwargs)\u001B[39m\n\u001B[32m   2813\u001B[39m \u001B[38;5;28;01mif\u001B[39;00m \u001B[38;5;28mself\u001B[39m.transform_mode == \u001B[33m\"\u001B[39m\u001B[33membedding\u001B[39m\u001B[33m\"\u001B[39m:\n\u001B[32m   2814\u001B[39m     epochs = (\n\u001B[32m   2815\u001B[39m         \u001B[38;5;28mself\u001B[39m.n_epochs_list \u001B[38;5;28;01mif\u001B[39;00m \u001B[38;5;28mself\u001B[39m.n_epochs_list \u001B[38;5;129;01mis\u001B[39;00m \u001B[38;5;129;01mnot\u001B[39;00m \u001B[38;5;28;01mNone\u001B[39;00m \u001B[38;5;28;01melse\u001B[39;00m \u001B[38;5;28mself\u001B[39m.n_epochs\n\u001B[32m   2816\u001B[39m     )\n\u001B[32m-> \u001B[39m\u001B[32m2817\u001B[39m     \u001B[38;5;28mself\u001B[39m.embedding_, aux_data = \u001B[38;5;28mself\u001B[39m._fit_embed_data(\n\u001B[32m   2818\u001B[39m         \u001B[38;5;28mself\u001B[39m._raw_data[index],\n\u001B[32m   2819\u001B[39m         epochs,\n\u001B[32m   2820\u001B[39m         init,\n\u001B[32m   2821\u001B[39m         random_state,  \u001B[38;5;66;03m# JH why raw data?\u001B[39;00m\n\u001B[32m   2822\u001B[39m         **kwargs,\n\u001B[32m   2823\u001B[39m     )\n\u001B[32m   2825\u001B[39m     \u001B[38;5;28;01mif\u001B[39;00m \u001B[38;5;28mself\u001B[39m.n_epochs_list \u001B[38;5;129;01mis\u001B[39;00m \u001B[38;5;129;01mnot\u001B[39;00m \u001B[38;5;28;01mNone\u001B[39;00m:\n\u001B[32m   2826\u001B[39m         \u001B[38;5;28;01mif\u001B[39;00m \u001B[33m\"\u001B[39m\u001B[33membedding_list\u001B[39m\u001B[33m\"\u001B[39m \u001B[38;5;129;01mnot\u001B[39;00m \u001B[38;5;129;01min\u001B[39;00m aux_data:\n",
      "\u001B[36mFile \u001B[39m\u001B[32m~\\anaconda3\\envs\\CIL\\Lib\\site-packages\\umap\\umap_.py:2865\u001B[39m, in \u001B[36mUMAP._fit_embed_data\u001B[39m\u001B[34m(self, X, n_epochs, init, random_state, **kwargs)\u001B[39m\n\u001B[32m   2860\u001B[39m \u001B[38;5;28;01mdef\u001B[39;00m\u001B[38;5;250m \u001B[39m\u001B[34m_fit_embed_data\u001B[39m(\u001B[38;5;28mself\u001B[39m, X, n_epochs, init, random_state, **kwargs):\n\u001B[32m   2861\u001B[39m \u001B[38;5;250m    \u001B[39m\u001B[33;03m\"\"\"A method wrapper for simplicial_set_embedding that can be\u001B[39;00m\n\u001B[32m   2862\u001B[39m \u001B[33;03m    replaced by subclasses. Arbitrary keyword arguments can be passed\u001B[39;00m\n\u001B[32m   2863\u001B[39m \u001B[33;03m    through .fit() and .fit_transform().\u001B[39;00m\n\u001B[32m   2864\u001B[39m \u001B[33;03m    \"\"\"\u001B[39;00m\n\u001B[32m-> \u001B[39m\u001B[32m2865\u001B[39m     \u001B[38;5;28;01mreturn\u001B[39;00m simplicial_set_embedding(\n\u001B[32m   2866\u001B[39m         X,\n\u001B[32m   2867\u001B[39m         \u001B[38;5;28mself\u001B[39m.graph_,\n\u001B[32m   2868\u001B[39m         \u001B[38;5;28mself\u001B[39m.n_components,\n\u001B[32m   2869\u001B[39m         \u001B[38;5;28mself\u001B[39m._initial_alpha,\n\u001B[32m   2870\u001B[39m         \u001B[38;5;28mself\u001B[39m._a,\n\u001B[32m   2871\u001B[39m         \u001B[38;5;28mself\u001B[39m._b,\n\u001B[32m   2872\u001B[39m         \u001B[38;5;28mself\u001B[39m.repulsion_strength,\n\u001B[32m   2873\u001B[39m         \u001B[38;5;28mself\u001B[39m.negative_sample_rate,\n\u001B[32m   2874\u001B[39m         n_epochs,\n\u001B[32m   2875\u001B[39m         init,\n\u001B[32m   2876\u001B[39m         random_state,\n\u001B[32m   2877\u001B[39m         \u001B[38;5;28mself\u001B[39m._input_distance_func,\n\u001B[32m   2878\u001B[39m         \u001B[38;5;28mself\u001B[39m._metric_kwds,\n\u001B[32m   2879\u001B[39m         \u001B[38;5;28mself\u001B[39m.densmap,\n\u001B[32m   2880\u001B[39m         \u001B[38;5;28mself\u001B[39m._densmap_kwds,\n\u001B[32m   2881\u001B[39m         \u001B[38;5;28mself\u001B[39m.output_dens,\n\u001B[32m   2882\u001B[39m         \u001B[38;5;28mself\u001B[39m._output_distance_func,\n\u001B[32m   2883\u001B[39m         \u001B[38;5;28mself\u001B[39m._output_metric_kwds,\n\u001B[32m   2884\u001B[39m         \u001B[38;5;28mself\u001B[39m.output_metric \u001B[38;5;129;01min\u001B[39;00m (\u001B[33m\"\u001B[39m\u001B[33meuclidean\u001B[39m\u001B[33m\"\u001B[39m, \u001B[33m\"\u001B[39m\u001B[33ml2\u001B[39m\u001B[33m\"\u001B[39m),\n\u001B[32m   2885\u001B[39m         \u001B[38;5;28mself\u001B[39m.random_state \u001B[38;5;129;01mis\u001B[39;00m \u001B[38;5;28;01mNone\u001B[39;00m,\n\u001B[32m   2886\u001B[39m         \u001B[38;5;28mself\u001B[39m.verbose,\n\u001B[32m   2887\u001B[39m         tqdm_kwds=\u001B[38;5;28mself\u001B[39m.tqdm_kwds,\n\u001B[32m   2888\u001B[39m     )\n",
      "\u001B[36mFile \u001B[39m\u001B[32m~\\anaconda3\\envs\\CIL\\Lib\\site-packages\\umap\\umap_.py:1195\u001B[39m, in \u001B[36msimplicial_set_embedding\u001B[39m\u001B[34m(data, graph, n_components, initial_alpha, a, b, gamma, negative_sample_rate, n_epochs, init, random_state, metric, metric_kwds, densmap, densmap_kwds, output_dens, output_metric, output_metric_kwds, euclidean_output, parallel, verbose, tqdm_kwds)\u001B[39m\n\u001B[32m   1188\u001B[39m embedding = (\n\u001B[32m   1189\u001B[39m     \u001B[32m10.0\u001B[39m\n\u001B[32m   1190\u001B[39m     * (embedding - np.min(embedding, \u001B[32m0\u001B[39m))\n\u001B[32m   1191\u001B[39m     / (np.max(embedding, \u001B[32m0\u001B[39m) - np.min(embedding, \u001B[32m0\u001B[39m))\n\u001B[32m   1192\u001B[39m ).astype(np.float32, order=\u001B[33m\"\u001B[39m\u001B[33mC\u001B[39m\u001B[33m\"\u001B[39m)\n\u001B[32m   1194\u001B[39m \u001B[38;5;28;01mif\u001B[39;00m euclidean_output:\n\u001B[32m-> \u001B[39m\u001B[32m1195\u001B[39m     embedding = optimize_layout_euclidean(\n\u001B[32m   1196\u001B[39m         embedding,\n\u001B[32m   1197\u001B[39m         embedding,\n\u001B[32m   1198\u001B[39m         head,\n\u001B[32m   1199\u001B[39m         tail,\n\u001B[32m   1200\u001B[39m         n_epochs,\n\u001B[32m   1201\u001B[39m         n_vertices,\n\u001B[32m   1202\u001B[39m         epochs_per_sample,\n\u001B[32m   1203\u001B[39m         a,\n\u001B[32m   1204\u001B[39m         b,\n\u001B[32m   1205\u001B[39m         rng_state,\n\u001B[32m   1206\u001B[39m         gamma,\n\u001B[32m   1207\u001B[39m         initial_alpha,\n\u001B[32m   1208\u001B[39m         negative_sample_rate,\n\u001B[32m   1209\u001B[39m         parallel=parallel,\n\u001B[32m   1210\u001B[39m         verbose=verbose,\n\u001B[32m   1211\u001B[39m         densmap=densmap,\n\u001B[32m   1212\u001B[39m         densmap_kwds=densmap_kwds,\n\u001B[32m   1213\u001B[39m         tqdm_kwds=tqdm_kwds,\n\u001B[32m   1214\u001B[39m         move_other=\u001B[38;5;28;01mTrue\u001B[39;00m,\n\u001B[32m   1215\u001B[39m     )\n\u001B[32m   1216\u001B[39m \u001B[38;5;28;01melse\u001B[39;00m:\n\u001B[32m   1217\u001B[39m     embedding = optimize_layout_generic(\n\u001B[32m   1218\u001B[39m         embedding,\n\u001B[32m   1219\u001B[39m         embedding,\n\u001B[32m   (...)\u001B[39m\u001B[32m   1235\u001B[39m         move_other=\u001B[38;5;28;01mTrue\u001B[39;00m,\n\u001B[32m   1236\u001B[39m     )\n",
      "\u001B[36mFile \u001B[39m\u001B[32m~\\anaconda3\\envs\\CIL\\Lib\\site-packages\\umap\\layouts.py:431\u001B[39m, in \u001B[36moptimize_layout_euclidean\u001B[39m\u001B[34m(head_embedding, tail_embedding, head, tail, n_epochs, n_vertices, epochs_per_sample, a, b, rng_state, gamma, initial_alpha, negative_sample_rate, parallel, verbose, densmap, densmap_kwds, tqdm_kwds, move_other)\u001B[39m\n\u001B[32m    399\u001B[39m     dens_re_cov = \u001B[32m0\u001B[39m\n\u001B[32m    401\u001B[39m optimize_fn(\n\u001B[32m    402\u001B[39m     head_embedding,\n\u001B[32m    403\u001B[39m     tail_embedding,\n\u001B[32m   (...)\u001B[39m\u001B[32m    428\u001B[39m     dens_mu_tot,\n\u001B[32m    429\u001B[39m )\n\u001B[32m--> \u001B[39m\u001B[32m431\u001B[39m alpha = initial_alpha * (\u001B[32m1.0\u001B[39m - (\u001B[38;5;28mfloat\u001B[39m(n) / \u001B[38;5;28mfloat\u001B[39m(n_epochs)))\n\u001B[32m    433\u001B[39m \u001B[38;5;28;01mif\u001B[39;00m verbose \u001B[38;5;129;01mand\u001B[39;00m n % \u001B[38;5;28mint\u001B[39m(n_epochs / \u001B[32m10\u001B[39m) == \u001B[32m0\u001B[39m:\n\u001B[32m    434\u001B[39m     \u001B[38;5;28mprint\u001B[39m(\u001B[33m\"\u001B[39m\u001B[38;5;130;01m\\t\u001B[39;00m\u001B[33mcompleted \u001B[39m\u001B[33m\"\u001B[39m, n, \u001B[33m\"\u001B[39m\u001B[33m / \u001B[39m\u001B[33m\"\u001B[39m, n_epochs, \u001B[33m\"\u001B[39m\u001B[33mepochs\u001B[39m\u001B[33m\"\u001B[39m)\n",
      "\u001B[31mKeyboardInterrupt\u001B[39m: "
     ]
    }
   ],
   "execution_count": 9
  },
  {
   "metadata": {},
   "cell_type": "code",
   "outputs": [],
   "execution_count": null,
   "source": "",
   "id": "32dcc2ad2e054dc7"
  }
 ],
 "metadata": {
  "kernelspec": {
   "display_name": "Python 3",
   "language": "python",
   "name": "python3"
  },
  "language_info": {
   "codemirror_mode": {
    "name": "ipython",
    "version": 2
   },
   "file_extension": ".py",
   "mimetype": "text/x-python",
   "name": "python",
   "nbconvert_exporter": "python",
   "pygments_lexer": "ipython2",
   "version": "2.7.6"
  }
 },
 "nbformat": 4,
 "nbformat_minor": 5
}

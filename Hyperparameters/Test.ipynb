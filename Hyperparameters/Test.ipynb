{
 "cells": [
  {
   "cell_type": "code",
   "id": "initial_id",
   "metadata": {
    "collapsed": true,
    "ExecuteTime": {
     "end_time": "2025-05-14T09:54:10.905273Z",
     "start_time": "2025-05-14T09:54:10.900727Z"
    }
   },
   "source": [
    "import os\n",
    "import random\n",
    "import torch\n",
    "import pandas as pd\n",
    "import numpy as np\n",
    "from sklearn.model_selection import train_test_split\n",
    "from sklearn.utils import resample\n",
    "\n",
    "from sklearn.metrics import mean_absolute_error, confusion_matrix\n",
    "\n",
    "from torch.utils.data import DataLoader, TensorDataset\n",
    "\n",
    "from Hyperparameters.Embeddings.BertTokenEmbedder import BertTokenEmbedder\n",
    "from Hyperparameters.Dataloader.DynamicUnderSampler import DynamicUnderSampler\n",
    "from Hyperparameters.Dataloader.EmbeddingDataset import EmbeddingDataset\n",
    "from Hyperparameters.Dataloader.collate_fn import collate_fn\n",
    "from Hyperparameters.Models.BertPreTrainedClassifier import BertPreTrainedClassifier\n",
    "\n",
    "from Hyperparameters.Utils.Misc import get_device\n",
    "\n"
   ],
   "outputs": [],
   "execution_count": 44
  },
  {
   "metadata": {
    "ExecuteTime": {
     "end_time": "2025-05-14T09:54:11.510481Z",
     "start_time": "2025-05-14T09:54:11.507084Z"
    }
   },
   "cell_type": "code",
   "source": [
    "model_name=\"FacebookAI/roberta-large\"\n",
    "csv_path=\"data/Sentiment/training.csv\"\n",
    "seed = 42\n",
    "\n",
    "lr = 1e-3\n",
    "class_order = [0,1,2]\n",
    "lr_top = 5e-5\n",
    "lr_mid = 3e-5\n",
    "lr_bot = 2e-5\n",
    "dropout = 0.4\n",
    "temperature = 0.5\n",
    "ce_weight = 0.1"
   ],
   "id": "afd2835fb0600cd7",
   "outputs": [],
   "execution_count": 45
  },
  {
   "metadata": {
    "ExecuteTime": {
     "end_time": "2025-05-14T09:54:12.259213Z",
     "start_time": "2025-05-14T09:54:12.088788Z"
    }
   },
   "cell_type": "code",
   "source": [
    "df = pd.read_csv(csv_path, index_col=0)\n",
    "label_map = {'negative': -1, 'neutral': 0, 'positive': 1}\n",
    "df['label_encoded'] = df['label'].map(label_map)\n",
    "\n"
   ],
   "id": "f03f37e839c57614",
   "outputs": [],
   "execution_count": 46
  },
  {
   "metadata": {},
   "cell_type": "markdown",
   "source": "Split the training data",
   "id": "2b46d211fd7c6af3"
  },
  {
   "metadata": {},
   "cell_type": "markdown",
   "source": "",
   "id": "b436d5d91e4c0782"
  },
  {
   "metadata": {
    "ExecuteTime": {
     "end_time": "2025-05-14T09:54:14.560766Z",
     "start_time": "2025-05-14T09:54:14.519358Z"
    }
   },
   "cell_type": "code",
   "source": [
    "\n",
    "train_texts, val_texts, train_labels, val_labels = train_test_split(\n",
    "    df['sentence'], df['label_encoded'],\n",
    "    stratify=df['label_encoded'], test_size=0.1, random_state=seed\n",
    ")"
   ],
   "id": "f5bc6f63095959b7",
   "outputs": [],
   "execution_count": 47
  },
  {
   "metadata": {},
   "cell_type": "markdown",
   "source": "Balance classes",
   "id": "f71e12258220d404"
  },
  {
   "metadata": {
    "ExecuteTime": {
     "end_time": "2025-05-14T09:54:16.383267Z",
     "start_time": "2025-05-14T09:54:16.263523Z"
    }
   },
   "cell_type": "code",
   "source": [
    "train_data = list(zip(train_texts, train_labels))\n",
    "grouped = [[x for x in train_data if x[1] == i] for i in [-1, 0, 1]]\n",
    "min_class_size = min(len(g) for g in grouped)\n",
    "balanced = sum([\n",
    "    resample(g, replace=False, n_samples=min_class_size, random_state=seed) for g in grouped\n",
    "], [])\n",
    "random.shuffle(balanced)\n",
    "train_texts, train_labels = zip(*balanced)"
   ],
   "id": "c1b8f2ea0aa4353f",
   "outputs": [],
   "execution_count": 48
  },
  {
   "metadata": {
    "ExecuteTime": {
     "end_time": "2025-05-14T09:54:29.316215Z",
     "start_time": "2025-05-14T09:54:17.518446Z"
    }
   },
   "cell_type": "code",
   "source": [
    "embedder = BertTokenEmbedder(model_name)\n",
    "X_train = embedder.fit_transform(list(train_texts))\n",
    "X_val = embedder.transform(list(val_texts))\n",
    "\n",
    "Y_train = np.array(train_labels)\n",
    "Y_val = np.array(val_labels)"
   ],
   "id": "11b4995f86281845",
   "outputs": [
    {
     "name": "stderr",
     "output_type": "stream",
     "text": [
      "Some weights of RobertaForSequenceClassification were not initialized from the model checkpoint at FacebookAI/roberta-large and are newly initialized: ['classifier.dense.bias', 'classifier.dense.weight', 'classifier.out_proj.bias', 'classifier.out_proj.weight']\n",
      "You should probably TRAIN this model on a down-stream task to be able to use it for predictions and inference.\n"
     ]
    },
    {
     "data": {
      "text/plain": [
       "Processing batches:   0%|          | 0/1849 [00:00<?, ?it/s]"
      ],
      "application/vnd.jupyter.widget-view+json": {
       "version_major": 2,
       "version_minor": 0,
       "model_id": "6c98defafb8c4b42b250f7cacfd4338f"
      }
     },
     "metadata": {},
     "output_type": "display_data"
    },
    {
     "data": {
      "text/plain": [
       "Processing batches:   0%|          | 0/320 [00:00<?, ?it/s]"
      ],
      "application/vnd.jupyter.widget-view+json": {
       "version_major": 2,
       "version_minor": 0,
       "model_id": "bf21f5ec16d843be8f1169615fabf5b9"
      }
     },
     "metadata": {},
     "output_type": "display_data"
    }
   ],
   "execution_count": 49
  },
  {
   "metadata": {},
   "cell_type": "markdown",
   "source": "Create DataLoaders",
   "id": "c81f8cafea7c9b21"
  },
  {
   "metadata": {
    "ExecuteTime": {
     "end_time": "2025-05-14T09:54:31.970852Z",
     "start_time": "2025-05-14T09:54:29.317703Z"
    }
   },
   "cell_type": "code",
   "source": [
    "train_loader_frozen = None\n",
    "train_loader_unfrozen = None\n",
    "val_loader_frozen = None\n",
    "val_loader_unfrozen = None\n",
    "\n",
    "if embedder.is_variable_length:\n",
    "    train_dataset = EmbeddingDataset(X_train, Y_train)\n",
    "    val_dataset = EmbeddingDataset(X_val, Y_val)\n",
    "\n",
    "    # Class-balanced sampler\n",
    "    train_sampler = DynamicUnderSampler(Y_train, random_state=seed)\n",
    "\n",
    "\n",
    "    train_loader_unfrozen = DataLoader(train_dataset, sampler=train_sampler, batch_size=8, collate_fn=collate_fn)\n",
    "    val_loader_unfrozen = DataLoader(val_dataset, batch_size=64, collate_fn=collate_fn)\n",
    "\n",
    "    cache_name= model_name.replace(\"/\", \"_\")\n",
    "    cache_path = \"cache/\" + cache_name\n",
    "    cache_train_path = cache_path + \"_train.pt\"\n",
    "    cache_val_path = cache_path + \"_val.pt\"\n",
    "\n",
    "\n",
    "    if os.path.exists(cache_train_path):\n",
    "        train_loader_frozen = torch.load(cache_train_path, weights_only=False)\n",
    "    else:\n",
    "        train_loader_pred = DataLoader(train_dataset, sampler=train_sampler, batch_size=8,collate_fn=collate_fn)\n",
    "        train_loader_frozen = embedder.precompute_embeddings(train_loader_pred)\n",
    "        os.makedirs(\"cache\", exist_ok=True)\n",
    "        torch.save(train_loader_frozen, cache_train_path)\n",
    "\n",
    "    if os.path.exists(cache_val_path):\n",
    "        val_loader_frozen = torch.load(cache_val_path, weights_only=False)\n",
    "    else:\n",
    "        val_loader_frozen = embedder.precompute_embeddings(val_loader_unfrozen, val=True)\n",
    "        os.makedirs(\"cache\", exist_ok=True)\n",
    "        torch.save(val_loader_frozen, cache_val_path)\n",
    "\n",
    "else:\n",
    "    X_train_tensor = torch.tensor(X_train, dtype=torch.float32)\n",
    "    Y_train_tensor = torch.tensor(Y_train, dtype=torch.long)\n",
    "    X_val_tensor = torch.tensor(X_val, dtype=torch.float32)\n",
    "    Y_val_tensor = torch.tensor(Y_val, dtype=torch.long)\n",
    "\n",
    "    train_loader_frozen = DataLoader(TensorDataset(X_train_tensor, Y_train_tensor), batch_size=32)\n",
    "    train_loader_unfrozen = DataLoader(TensorDataset(X_train_tensor, Y_train_tensor), batch_size=16, shuffle=True)\n",
    "    val_loader = DataLoader(TensorDataset(X_val_tensor, Y_val_tensor), batch_size=64)"
   ],
   "id": "ba59507c8afa0bea",
   "outputs": [],
   "execution_count": 50
  },
  {
   "metadata": {
    "ExecuteTime": {
     "end_time": "2025-05-14T09:54:33.245431Z",
     "start_time": "2025-05-14T09:54:31.972186Z"
    }
   },
   "cell_type": "code",
   "source": [
    "model = BertPreTrainedClassifier(\n",
    "    model_name = model_name,\n",
    "    lr = lr,\n",
    "    pt_lr_bot = lr_bot,\n",
    "    pt_lr_mid = lr_mid,\n",
    "    pt_lr_top = lr_top,\n",
    "    class_order = class_order,\n",
    "    ce_weight = ce_weight,\n",
    "    temperature = temperature,\n",
    "    frozen = True,\n",
    "    custom_ll = True\n",
    ")\n",
    "\n",
    "model.to(get_device())\n"
   ],
   "id": "4601bfa53e45ecc",
   "outputs": [
    {
     "name": "stderr",
     "output_type": "stream",
     "text": [
      "Some weights of RobertaModel were not initialized from the model checkpoint at FacebookAI/roberta-large and are newly initialized: ['pooler.dense.bias', 'pooler.dense.weight']\n",
      "You should probably TRAIN this model on a down-stream task to be able to use it for predictions and inference.\n"
     ]
    },
    {
     "name": "stdout",
     "output_type": "stream",
     "text": [
      "[INFO] Using device: NVIDIA GeForce RTX 3080\n"
     ]
    },
    {
     "data": {
      "text/plain": [
       "BertPreTrainedClassifier(\n",
       "  (criterion): CustomLoss()\n",
       "  (model): RobertaModel(\n",
       "    (embeddings): RobertaEmbeddings(\n",
       "      (word_embeddings): Embedding(50265, 1024, padding_idx=1)\n",
       "      (position_embeddings): Embedding(514, 1024, padding_idx=1)\n",
       "      (token_type_embeddings): Embedding(1, 1024)\n",
       "      (LayerNorm): LayerNorm((1024,), eps=1e-05, elementwise_affine=True)\n",
       "      (dropout): Dropout(p=0.1, inplace=False)\n",
       "    )\n",
       "    (encoder): RobertaEncoder(\n",
       "      (layer): ModuleList(\n",
       "        (0-23): 24 x RobertaLayer(\n",
       "          (attention): RobertaAttention(\n",
       "            (self): RobertaSdpaSelfAttention(\n",
       "              (query): Linear(in_features=1024, out_features=1024, bias=True)\n",
       "              (key): Linear(in_features=1024, out_features=1024, bias=True)\n",
       "              (value): Linear(in_features=1024, out_features=1024, bias=True)\n",
       "              (dropout): Dropout(p=0.1, inplace=False)\n",
       "            )\n",
       "            (output): RobertaSelfOutput(\n",
       "              (dense): Linear(in_features=1024, out_features=1024, bias=True)\n",
       "              (LayerNorm): LayerNorm((1024,), eps=1e-05, elementwise_affine=True)\n",
       "              (dropout): Dropout(p=0.1, inplace=False)\n",
       "            )\n",
       "          )\n",
       "          (intermediate): RobertaIntermediate(\n",
       "            (dense): Linear(in_features=1024, out_features=4096, bias=True)\n",
       "            (intermediate_act_fn): GELUActivation()\n",
       "          )\n",
       "          (output): RobertaOutput(\n",
       "            (dense): Linear(in_features=4096, out_features=1024, bias=True)\n",
       "            (LayerNorm): LayerNorm((1024,), eps=1e-05, elementwise_affine=True)\n",
       "            (dropout): Dropout(p=0.1, inplace=False)\n",
       "          )\n",
       "        )\n",
       "      )\n",
       "    )\n",
       "    (pooler): RobertaPooler(\n",
       "      (dense): Linear(in_features=1024, out_features=1024, bias=True)\n",
       "      (activation): Tanh()\n",
       "    )\n",
       "  )\n",
       "  (classifier): Sequential(\n",
       "    (0): Dropout(p=0.1, inplace=False)\n",
       "    (1): Linear(in_features=1024, out_features=512, bias=True)\n",
       "    (2): GELU(approximate='none')\n",
       "    (3): Dropout(p=0.1, inplace=False)\n",
       "    (4): Linear(in_features=512, out_features=3, bias=True)\n",
       "  )\n",
       ")"
      ]
     },
     "execution_count": 51,
     "metadata": {},
     "output_type": "execute_result"
    }
   ],
   "execution_count": 51
  },
  {
   "metadata": {
    "ExecuteTime": {
     "end_time": "2025-05-14T09:57:43.487464Z",
     "start_time": "2025-05-14T09:54:33.247232Z"
    }
   },
   "cell_type": "code",
   "source": "model.fit(train_loader_frozen, val_loader_frozen, epochs=6, plot_metrics = True, log_mlflow=False)",
   "id": "24ef5ac494e33087",
   "outputs": [
    {
     "name": "stdout",
     "output_type": "stream",
     "text": [
      "Training BertPreTrainedClassifier on cuda\n"
     ]
    },
    {
     "data": {
      "text/plain": [
       "Training:   0%|          | 0/1233 [00:00<?, ?batch/s]"
      ],
      "application/vnd.jupyter.widget-view+json": {
       "version_major": 2,
       "version_minor": 0,
       "model_id": "88095fa8642043dcb3a72ca6f7a7099f"
      }
     },
     "metadata": {},
     "output_type": "display_data"
    },
    {
     "data": {
      "text/plain": [
       "Evaluating:   0%|          | 0/639 [00:00<?, ?batch/s]"
      ],
      "application/vnd.jupyter.widget-view+json": {
       "version_major": 2,
       "version_minor": 0,
       "model_id": "9d58f5da5262450cb0da3987314e9aa6"
      }
     },
     "metadata": {},
     "output_type": "display_data"
    },
    {
     "name": "stdout",
     "output_type": "stream",
     "text": [
      "Epoch 1/6: \n",
      "Train Loss: 0.3906, Acc: 0.4850 Train Neg Acc: 0.6052, Nut Acc: 0.4142, Pos Acc: 0.6265\n",
      " Val Loss: 0.3250, Acc: 0.6137 Val Neg Acc: 0.4562, Nut Acc: 0.6689, Pos Acc: 0.8483\n"
     ]
    },
    {
     "data": {
      "text/plain": [
       "Training:   0%|          | 0/1233 [00:00<?, ?batch/s]"
      ],
      "application/vnd.jupyter.widget-view+json": {
       "version_major": 2,
       "version_minor": 0,
       "model_id": "5a54199472c04e70b4741dc445f02af7"
      }
     },
     "metadata": {},
     "output_type": "display_data"
    },
    {
     "data": {
      "text/plain": [
       "Evaluating:   0%|          | 0/639 [00:00<?, ?batch/s]"
      ],
      "application/vnd.jupyter.widget-view+json": {
       "version_major": 2,
       "version_minor": 0,
       "model_id": "f207c10ada22497e982cb8a48fa934e0"
      }
     },
     "metadata": {},
     "output_type": "display_data"
    },
    {
     "name": "stdout",
     "output_type": "stream",
     "text": [
      "Epoch 2/6: \n",
      "Train Loss: 0.3154, Acc: 0.6210 Train Neg Acc: 0.6605, Nut Acc: 0.5458, Pos Acc: 0.7059\n",
      " Val Loss: 0.2645, Acc: 0.6850 Val Neg Acc: 0.5585, Nut Acc: 0.7290, Pos Acc: 0.7283\n"
     ]
    },
    {
     "data": {
      "text/plain": [
       "Training:   0%|          | 0/1233 [00:00<?, ?batch/s]"
      ],
      "application/vnd.jupyter.widget-view+json": {
       "version_major": 2,
       "version_minor": 0,
       "model_id": "214664a43ed74c4a8bf141546f2462e9"
      }
     },
     "metadata": {},
     "output_type": "display_data"
    },
    {
     "data": {
      "text/plain": [
       "Evaluating:   0%|          | 0/639 [00:00<?, ?batch/s]"
      ],
      "application/vnd.jupyter.widget-view+json": {
       "version_major": 2,
       "version_minor": 0,
       "model_id": "772b4fec2e254dac8a2ee62e1bc69746"
      }
     },
     "metadata": {},
     "output_type": "display_data"
    },
    {
     "name": "stdout",
     "output_type": "stream",
     "text": [
      "Epoch 3/6: \n",
      "Train Loss: 0.2996, Acc: 0.6433 Train Neg Acc: 0.6784, Nut Acc: 0.5716, Pos Acc: 0.7137\n",
      " Val Loss: 0.2645, Acc: 0.6850 Val Neg Acc: 0.5585, Nut Acc: 0.7290, Pos Acc: 0.7283\n"
     ]
    },
    {
     "data": {
      "text/plain": [
       "Training:   0%|          | 0/1233 [00:00<?, ?batch/s]"
      ],
      "application/vnd.jupyter.widget-view+json": {
       "version_major": 2,
       "version_minor": 0,
       "model_id": "041f8a8ab8ac48e0a75d365e14e83319"
      }
     },
     "metadata": {},
     "output_type": "display_data"
    },
    {
     "data": {
      "text/plain": [
       "Evaluating:   0%|          | 0/639 [00:00<?, ?batch/s]"
      ],
      "application/vnd.jupyter.widget-view+json": {
       "version_major": 2,
       "version_minor": 0,
       "model_id": "0a81bf005ae741ee93a73bfcd3e951e8"
      }
     },
     "metadata": {},
     "output_type": "display_data"
    },
    {
     "name": "stdout",
     "output_type": "stream",
     "text": [
      "Epoch 4/6: \n",
      "Train Loss: 0.2992, Acc: 0.6442 Train Neg Acc: 0.6775, Nut Acc: 0.5720, Pos Acc: 0.7173\n",
      " Val Loss: 0.2645, Acc: 0.6850 Val Neg Acc: 0.5585, Nut Acc: 0.7290, Pos Acc: 0.7283\n"
     ]
    },
    {
     "data": {
      "text/plain": [
       "Training:   0%|          | 0/1233 [00:00<?, ?batch/s]"
      ],
      "application/vnd.jupyter.widget-view+json": {
       "version_major": 2,
       "version_minor": 0,
       "model_id": "b5c4375e3c00440fa7cbd96cdc429e36"
      }
     },
     "metadata": {},
     "output_type": "display_data"
    },
    {
     "data": {
      "text/plain": [
       "Evaluating:   0%|          | 0/639 [00:00<?, ?batch/s]"
      ],
      "application/vnd.jupyter.widget-view+json": {
       "version_major": 2,
       "version_minor": 0,
       "model_id": "fa36c8557c8a4172952eb78f4df6042f"
      }
     },
     "metadata": {},
     "output_type": "display_data"
    },
    {
     "name": "stdout",
     "output_type": "stream",
     "text": [
      "Epoch 5/6: \n",
      "Train Loss: 0.2996, Acc: 0.6432 Train Neg Acc: 0.6787, Nut Acc: 0.5726, Pos Acc: 0.7106\n",
      " Val Loss: 0.2645, Acc: 0.6850 Val Neg Acc: 0.5585, Nut Acc: 0.7290, Pos Acc: 0.7283\n"
     ]
    },
    {
     "data": {
      "text/plain": [
       "Training:   0%|          | 0/1233 [00:00<?, ?batch/s]"
      ],
      "application/vnd.jupyter.widget-view+json": {
       "version_major": 2,
       "version_minor": 0,
       "model_id": "190ecb9b54d448b1afe68daedabd44b5"
      }
     },
     "metadata": {},
     "output_type": "display_data"
    },
    {
     "data": {
      "text/plain": [
       "Evaluating:   0%|          | 0/639 [00:00<?, ?batch/s]"
      ],
      "application/vnd.jupyter.widget-view+json": {
       "version_major": 2,
       "version_minor": 0,
       "model_id": "f7e864b43b034f719fcc0c554e56aa02"
      }
     },
     "metadata": {},
     "output_type": "display_data"
    },
    {
     "name": "stdout",
     "output_type": "stream",
     "text": [
      "Epoch 6/6: \n",
      "Train Loss: 0.2994, Acc: 0.6454 Train Neg Acc: 0.6790, Nut Acc: 0.5746, Pos Acc: 0.7156\n",
      " Val Loss: 0.2645, Acc: 0.6850 Val Neg Acc: 0.5585, Nut Acc: 0.7290, Pos Acc: 0.7283\n"
     ]
    },
    {
     "data": {
      "text/plain": [
       "<Figure size 1200x400 with 2 Axes>"
      ],
      "image/png": "[encoded data removed]"
     },
     "metadata": {},
     "output_type": "display_data"
    }
   ],
   "execution_count": 52
  },
  {
   "metadata": {
    "jupyter": {
     "is_executing": true
    },
    "ExecuteTime": {
     "start_time": "2025-05-14T09:57:43.488561Z"
    }
   },
   "cell_type": "code",
   "source": [
    "model.unfreeze(keep_frozen=12)\n",
    "model.fit(train_loader_unfrozen, val_loader_unfrozen, epochs=2, plot_metrics = True)"
   ],
   "id": "4da38b06c64b2159",
   "outputs": [
    {
     "name": "stdout",
     "output_type": "stream",
     "text": [
      "Training BertPreTrainedClassifier on cuda\n"
     ]
    },
    {
     "data": {
      "text/plain": [
       "Training:   0%|          | 0/2465 [00:00<?, ?batch/s]"
      ],
      "application/vnd.jupyter.widget-view+json": {
       "version_major": 2,
       "version_minor": 0,
       "model_id": "91f88bb9b65e4d6187abe03665ce8e18"
      }
     },
     "metadata": {},
     "output_type": "display_data"
    }
   ],
   "execution_count": null
  },
  {
   "metadata": {
    "ExecuteTime": {
     "end_time": "2025-05-13T12:06:35.922435Z",
     "start_time": "2025-05-13T10:44:58.783356Z"
    }
   },
   "cell_type": "code",
   "source": "Y_val_pred = model.predict(val_loader_unfrozen)",
   "id": "b2a142be90894604",
   "outputs": [
    {
     "data": {
      "text/plain": [
       "Predicting:   0%|          | 0/160 [00:00<?, ?batch/s]"
      ],
      "application/vnd.jupyter.widget-view+json": {
       "version_major": 2,
       "version_minor": 0,
       "model_id": "3d575f71224a497eb381636a2d49b238"
      }
     },
     "metadata": {},
     "output_type": "display_data"
    }
   ],
   "execution_count": 28
  },
  {
   "metadata": {
    "ExecuteTime": {
     "end_time": "2025-05-13T12:06:35.929700Z",
     "start_time": "2025-05-13T12:06:35.923871Z"
    }
   },
   "cell_type": "code",
   "source": [
    "mae_val = mean_absolute_error(Y_val, Y_val_pred)\n",
    "L_score_val = 0.5 * (2 - mae_val)\n",
    "print(f'Evaluation Score (validation set): {L_score_val:.05f}')"
   ],
   "id": "58cf5ff0e24b713",
   "outputs": [
    {
     "name": "stdout",
     "output_type": "stream",
     "text": [
      "Evaluation Score (validation set): 0.87008\n"
     ]
    }
   ],
   "execution_count": 29
  },
  {
   "metadata": {},
   "cell_type": "code",
   "outputs": [],
   "execution_count": null,
   "source": "",
   "id": "15a98141e6e87780"
  },
  {
   "metadata": {
    "ExecuteTime": {
     "end_time": "2025-05-13T12:06:35.945503Z",
     "start_time": "2025-05-13T12:06:35.931377Z"
    }
   },
   "cell_type": "code",
   "source": [
    "conf_matrix = confusion_matrix(Y_val,Y_val_pred, labels=[-1, 0, 1])\n",
    "print(conf_matrix)"
   ],
   "id": "5f7db87899a3ad15",
   "outputs": [
    {
     "name": "stdout",
     "output_type": "stream",
     "text": [
      "[[1818  222  151]\n",
      " [ 668 3773  474]\n",
      " [ 252  483 2369]]\n"
     ]
    }
   ],
   "execution_count": 30
  },
  {
   "metadata": {
    "ExecuteTime": {
     "end_time": "2025-05-13T23:46:05.258277Z",
     "start_time": "2025-05-13T12:08:03.465108Z"
    }
   },
   "cell_type": "code",
   "source": "model.fit(train_loader_unfrozen, val_loader_unfrozen, epochs=2, plot_metrics = True)",
   "id": "5f1a5fc8c1615f77",
   "outputs": [
    {
     "name": "stdout",
     "output_type": "stream",
     "text": [
      "Training BertPreTrainedClassifier on cuda\n"
     ]
    },
    {
     "data": {
      "text/plain": [
       "Training:   0%|          | 0/2465 [00:00<?, ?batch/s]"
      ],
      "application/vnd.jupyter.widget-view+json": {
       "version_major": 2,
       "version_minor": 0,
       "model_id": "34424ccf12dc4e2985f1e73e738144e8"
      }
     },
     "metadata": {},
     "output_type": "display_data"
    },
    {
     "data": {
      "text/plain": [
       "Evaluating:   0%|          | 0/160 [00:00<?, ?batch/s]"
      ],
      "application/vnd.jupyter.widget-view+json": {
       "version_major": 2,
       "version_minor": 0,
       "model_id": "ba61fb851ae4486ba032a79e324fd917"
      }
     },
     "metadata": {},
     "output_type": "display_data"
    },
    {
     "name": "stdout",
     "output_type": "stream",
     "text": [
      "Epoch 1/2: \n",
      "Train Loss: 0.4377, Acc: 0.3594 Train Neg Acc: 0.7495, Nut Acc: 0.3419, Pos Acc: 0.7317\n",
      " Val Loss: 0.3729, Acc: 0.4814 Val Neg Acc: -1.0000, Nut Acc: 0.4814, Pos Acc: -1.0000\n"
     ]
    },
    {
     "data": {
      "text/plain": [
       "Training:   0%|          | 0/2465 [00:00<?, ?batch/s]"
      ],
      "application/vnd.jupyter.widget-view+json": {
       "version_major": 2,
       "version_minor": 0,
       "model_id": "0ee7e680904f4424b83ac97b49ac8140"
      }
     },
     "metadata": {},
     "output_type": "display_data"
    },
    {
     "data": {
      "text/plain": [
       "Evaluating:   0%|          | 0/160 [00:00<?, ?batch/s]"
      ],
      "application/vnd.jupyter.widget-view+json": {
       "version_major": 2,
       "version_minor": 0,
       "model_id": "13198716154f4479a10939b3ae0463fe"
      }
     },
     "metadata": {},
     "output_type": "display_data"
    },
    {
     "name": "stdout",
     "output_type": "stream",
     "text": [
      "Epoch 2/2: \n",
      "Train Loss: 0.4500, Acc: 0.3333 Train Neg Acc: -1.0000, Nut Acc: 0.3333, Pos Acc: -1.0000\n",
      " Val Loss: 0.3729, Acc: 0.4814 Val Neg Acc: -1.0000, Nut Acc: 0.4814, Pos Acc: -1.0000\n"
     ]
    },
    {
     "data": {
      "text/plain": [
       "<Figure size 1200x400 with 2 Axes>"
      ],
      "image/png": "[encoded data removed]"
     },
     "metadata": {},
     "output_type": "display_data"
    }
   ],
   "execution_count": 32
  },
  {
   "metadata": {
    "ExecuteTime": {
     "end_time": "2025-05-13T23:46:05.261503Z",
     "start_time": "2025-05-13T23:46:05.259737Z"
    }
   },
   "cell_type": "code",
   "source": "",
   "id": "9e482b0738088509",
   "outputs": [],
   "execution_count": 32
  },
  {
   "metadata": {
    "ExecuteTime": {
     "end_time": "2025-05-14T00:40:23.663813Z",
     "start_time": "2025-05-13T23:46:05.262647Z"
    }
   },
   "cell_type": "code",
   "source": "Y_val_pred = model.predict(val_loader_unfrozen)",
   "id": "f1001feb7ff52c02",
   "outputs": [
    {
     "data": {
      "text/plain": [
       "Predicting:   0%|          | 0/160 [00:00<?, ?batch/s]"
      ],
      "application/vnd.jupyter.widget-view+json": {
       "version_major": 2,
       "version_minor": 0,
       "model_id": "b10989505b7647798cc5232cfb186e40"
      }
     },
     "metadata": {},
     "output_type": "display_data"
    }
   ],
   "execution_count": 33
  },
  {
   "metadata": {
    "ExecuteTime": {
     "end_time": "2025-05-14T00:40:23.671133Z",
     "start_time": "2025-05-14T00:40:23.665895Z"
    }
   },
   "cell_type": "code",
   "source": [
    "mae_val = mean_absolute_error(Y_val, Y_val_pred)\n",
    "L_score_val = 0.5 * (2 - mae_val)\n",
    "print(f'Evaluation Score (validation set): {L_score_val:.05f}')"
   ],
   "id": "d75fad086d558fd7",
   "outputs": [
    {
     "name": "stdout",
     "output_type": "stream",
     "text": [
      "Evaluation Score (validation set): 0.74070\n"
     ]
    }
   ],
   "execution_count": 34
  },
  {
   "metadata": {
    "ExecuteTime": {
     "end_time": "2025-05-14T00:40:23.690343Z",
     "start_time": "2025-05-14T00:40:23.672548Z"
    }
   },
   "cell_type": "code",
   "source": [
    "conf_matrix = confusion_matrix(Y_val,Y_val_pred, labels=[-1, 0, 1])\n",
    "print(conf_matrix)"
   ],
   "id": "d674b7e6eb7aa679",
   "outputs": [
    {
     "name": "stdout",
     "output_type": "stream",
     "text": [
      "[[   0 2191    0]\n",
      " [   0 4915    0]\n",
      " [   0 3104    0]]\n"
     ]
    }
   ],
   "execution_count": 35
  },
  {
   "metadata": {
    "ExecuteTime": {
     "end_time": "2025-05-14T00:40:23.693638Z",
     "start_time": "2025-05-14T00:40:23.691688Z"
    }
   },
   "cell_type": "code",
   "source": "",
   "id": "d04d77a5ee374965",
   "outputs": [],
   "execution_count": 35
  },
  {
   "metadata": {
    "ExecuteTime": {
     "end_time": "2025-05-14T00:40:28.060425Z",
     "start_time": "2025-05-14T00:40:23.695532Z"
    }
   },
   "cell_type": "code",
   "source": [
    "model_path = \"roberta_large_12_2\"\n",
    "torch.save(model.state_dict(), \"cache/\" + model_path + \".pt\")\n",
    "model.model.save_pretrained(\"cache/\" + model_path + \"pretrained\")\n",
    "model.model.config.save_pretrained(\"cache/\" + model_path + \"_config\")\n",
    "model.tokenizer.save_pretrained(\"cache/\" + model_path + \"tokenizer\")\n"
   ],
   "id": "d2261c31f5fb9faa",
   "outputs": [
    {
     "data": {
      "text/plain": [
       "('cache/roberta_large_4tokenizer\\\\tokenizer_config.json',\n",
       " 'cache/roberta_large_4tokenizer\\\\special_tokens_map.json',\n",
       " 'cache/roberta_large_4tokenizer\\\\vocab.json',\n",
       " 'cache/roberta_large_4tokenizer\\\\merges.txt',\n",
       " 'cache/roberta_large_4tokenizer\\\\added_tokens.json',\n",
       " 'cache/roberta_large_4tokenizer\\\\tokenizer.json')"
      ]
     },
     "execution_count": 36,
     "metadata": {},
     "output_type": "execute_result"
    }
   ],
   "execution_count": 36
  },
  {
   "metadata": {},
   "cell_type": "code",
   "outputs": [],
   "execution_count": null,
   "source": "",
   "id": "939a782cd93421b"
  }
 ],
 "metadata": {
  "kernelspec": {
   "display_name": "Python 3",
   "language": "python",
   "name": "python3"
  },
  "language_info": {
   "codemirror_mode": {
    "name": "ipython",
    "version": 2
   },
   "file_extension": ".py",
   "mimetype": "text/x-python",
   "name": "python",
   "nbconvert_exporter": "python",
   "pygments_lexer": "ipython2",
   "version": "2.7.6"
  }
 },
 "nbformat": 4,
 "nbformat_minor": 5
}

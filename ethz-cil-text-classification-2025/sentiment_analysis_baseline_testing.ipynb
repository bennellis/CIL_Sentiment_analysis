{
 "cells": [
  {
   "cell_type": "markdown",
   "metadata": {
    "id": "nqJLaVF2ag6Z"
   },
   "source": [
    "# Sentiment Classification Project"
   ]
  },
  {
   "cell_type": "code",
   "metadata": {
    "id": "r6qltM7-ahC-",
    "ExecuteTime": {
     "end_time": "2025-04-18T10:17:16.298950Z",
     "start_time": "2025-04-18T10:17:16.293760Z"
    }
   },
   "source": [
    "import numpy as np\n",
    "import pandas as pd\n",
    "import torch"
   ],
   "outputs": [],
   "execution_count": 56
  },
  {
   "cell_type": "markdown",
   "metadata": {
    "id": "ZI8WpWMfcEPP"
   },
   "source": [
    "# Load data"
   ]
  },
  {
   "cell_type": "code",
   "metadata": {
    "id": "n-m747YTcAcq",
    "ExecuteTime": {
     "end_time": "2025-04-18T08:47:18.730115Z",
     "start_time": "2025-04-18T08:47:18.544410Z"
    }
   },
   "source": [
    "training_data = pd.read_csv('data/training.csv',index_col = 0)"
   ],
   "outputs": [],
   "execution_count": 3
  },
  {
   "cell_type": "code",
   "metadata": {
    "id": "WXIwO5cdcPsn",
    "ExecuteTime": {
     "end_time": "2025-04-18T08:47:22.781237Z",
     "start_time": "2025-04-18T08:47:22.766064Z"
    }
   },
   "source": [
    "# Encode the Labels (either as 0,1,2 for classification or -1,0,1 for regression)\n",
    "label_mapping = {'negative': -1, 'neutral': 0, 'positive': 1}\n",
    "training_data['label_encoded'] = training_data['label'].map(label_mapping)"
   ],
   "outputs": [],
   "execution_count": 4
  },
  {
   "cell_type": "code",
   "metadata": {
    "colab": {
     "base_uri": "https://localhost:8080/",
     "height": 455
    },
    "id": "AQpXm7wA_jIg",
    "outputId": "9823fa7d-c319-4efe-e4bb-a07f4d01aa27",
    "ExecuteTime": {
     "end_time": "2025-04-18T08:47:30.931780Z",
     "start_time": "2025-04-18T08:47:30.922158Z"
    }
   },
   "source": [
    "training_data"
   ],
   "outputs": [
    {
     "data": {
      "text/plain": [
       "                                                 sentence     label  \\\n",
       "id                                                                    \n",
       "0       Those 2 drinks are part of the HK culture and ...  negative   \n",
       "1       I was told by the repair company that was doin...  negative   \n",
       "2                  It is there to give them a good time .   neutral   \n",
       "3       Like leafing through an album of photos accomp...  negative   \n",
       "4              Johnny was a talker and liked to have fun.  positive   \n",
       "...                                                   ...       ...   \n",
       "102092      I thought this place was supposed to be good.  negative   \n",
       "102093  They claim it's because people didn't like it ...  negative   \n",
       "102094  There is also another marbled-out full bathroo...   neutral   \n",
       "102095  You put in your cell phone number & select a d...   neutral   \n",
       "102096  I came in for a second opinion on a crown I wa...   neutral   \n",
       "\n",
       "        label_encoded  \n",
       "id                     \n",
       "0                  -1  \n",
       "1                  -1  \n",
       "2                   0  \n",
       "3                  -1  \n",
       "4                   1  \n",
       "...               ...  \n",
       "102092             -1  \n",
       "102093             -1  \n",
       "102094              0  \n",
       "102095              0  \n",
       "102096              0  \n",
       "\n",
       "[102097 rows x 3 columns]"
      ],
      "text/html": [
       "<div>\n",
       "<style scoped>\n",
       "    .dataframe tbody tr th:only-of-type {\n",
       "        vertical-align: middle;\n",
       "    }\n",
       "\n",
       "    .dataframe tbody tr th {\n",
       "        vertical-align: top;\n",
       "    }\n",
       "\n",
       "    .dataframe thead th {\n",
       "        text-align: right;\n",
       "    }\n",
       "</style>\n",
       "<table border=\"1\" class=\"dataframe\">\n",
       "  <thead>\n",
       "    <tr style=\"text-align: right;\">\n",
       "      <th></th>\n",
       "      <th>sentence</th>\n",
       "      <th>label</th>\n",
       "      <th>label_encoded</th>\n",
       "    </tr>\n",
       "    <tr>\n",
       "      <th>id</th>\n",
       "      <th></th>\n",
       "      <th></th>\n",
       "      <th></th>\n",
       "    </tr>\n",
       "  </thead>\n",
       "  <tbody>\n",
       "    <tr>\n",
       "      <th>0</th>\n",
       "      <td>Those 2 drinks are part of the HK culture and ...</td>\n",
       "      <td>negative</td>\n",
       "      <td>-1</td>\n",
       "    </tr>\n",
       "    <tr>\n",
       "      <th>1</th>\n",
       "      <td>I was told by the repair company that was doin...</td>\n",
       "      <td>negative</td>\n",
       "      <td>-1</td>\n",
       "    </tr>\n",
       "    <tr>\n",
       "      <th>2</th>\n",
       "      <td>It is there to give them a good time .</td>\n",
       "      <td>neutral</td>\n",
       "      <td>0</td>\n",
       "    </tr>\n",
       "    <tr>\n",
       "      <th>3</th>\n",
       "      <td>Like leafing through an album of photos accomp...</td>\n",
       "      <td>negative</td>\n",
       "      <td>-1</td>\n",
       "    </tr>\n",
       "    <tr>\n",
       "      <th>4</th>\n",
       "      <td>Johnny was a talker and liked to have fun.</td>\n",
       "      <td>positive</td>\n",
       "      <td>1</td>\n",
       "    </tr>\n",
       "    <tr>\n",
       "      <th>...</th>\n",
       "      <td>...</td>\n",
       "      <td>...</td>\n",
       "      <td>...</td>\n",
       "    </tr>\n",
       "    <tr>\n",
       "      <th>102092</th>\n",
       "      <td>I thought this place was supposed to be good.</td>\n",
       "      <td>negative</td>\n",
       "      <td>-1</td>\n",
       "    </tr>\n",
       "    <tr>\n",
       "      <th>102093</th>\n",
       "      <td>They claim it's because people didn't like it ...</td>\n",
       "      <td>negative</td>\n",
       "      <td>-1</td>\n",
       "    </tr>\n",
       "    <tr>\n",
       "      <th>102094</th>\n",
       "      <td>There is also another marbled-out full bathroo...</td>\n",
       "      <td>neutral</td>\n",
       "      <td>0</td>\n",
       "    </tr>\n",
       "    <tr>\n",
       "      <th>102095</th>\n",
       "      <td>You put in your cell phone number &amp; select a d...</td>\n",
       "      <td>neutral</td>\n",
       "      <td>0</td>\n",
       "    </tr>\n",
       "    <tr>\n",
       "      <th>102096</th>\n",
       "      <td>I came in for a second opinion on a crown I wa...</td>\n",
       "      <td>neutral</td>\n",
       "      <td>0</td>\n",
       "    </tr>\n",
       "  </tbody>\n",
       "</table>\n",
       "<p>102097 rows × 3 columns</p>\n",
       "</div>"
      ]
     },
     "execution_count": 6,
     "metadata": {},
     "output_type": "execute_result"
    }
   ],
   "execution_count": 6
  },
  {
   "cell_type": "markdown",
   "metadata": {
    "id": "4cDLHIePxLbq"
   },
   "source": [
    "# Build Validation Set\n",
    "We use 90% of the reviews for training, and the remaining 10% for validation"
   ]
  },
  {
   "cell_type": "code",
   "metadata": {
    "id": "S2PkENpXxOtc",
    "ExecuteTime": {
     "end_time": "2025-04-18T08:48:08.212542Z",
     "start_time": "2025-04-18T08:48:06.908781Z"
    }
   },
   "source": [
    "from sklearn.model_selection import train_test_split\n",
    "sentences = training_data['sentence']\n",
    "labels = training_data['label_encoded']"
   ],
   "outputs": [],
   "execution_count": 7
  },
  {
   "cell_type": "code",
   "metadata": {
    "id": "WtC5to6MyH9L",
    "ExecuteTime": {
     "end_time": "2025-04-18T09:16:53.434316Z",
     "start_time": "2025-04-18T09:16:53.379856Z"
    }
   },
   "source": [
    "# Fix Random Seed for Reproducibility\n",
    "random_seed = 42\n",
    "train_sentences, val_sentences, train_labels, val_labels = train_test_split(sentences,labels, test_size=0.1, stratify=labels, random_state=random_seed)\n",
    "train_sentences, val_sentences = list(train_sentences), list(val_sentences)\n",
    "train_labels, val_labels = np.array(train_labels), np.array(val_labels)"
   ],
   "outputs": [],
   "execution_count": 27
  },
  {
   "cell_type": "code",
   "metadata": {
    "ExecuteTime": {
     "end_time": "2025-04-18T09:17:03.876974Z",
     "start_time": "2025-04-18T09:17:03.767916Z"
    }
   },
   "source": [
    "from sklearn.utils import resample\n",
    "\n",
    "# BALANCE_TRAINING = True\n",
    "\n",
    "# Combine sentences and labels for easy manipulation\n",
    "train_data = list(zip(train_sentences, train_labels))\n",
    "\n",
    "# Separate by class\n",
    "class_minus1 = [x for x in train_data if x[1] == -1]\n",
    "class_0 = [x for x in train_data if x[1] == 0]\n",
    "class_1 = [x for x in train_data if x[1] == 1]\n",
    "\n",
    "# Find the smallest class size\n",
    "min_size = min(len(class_minus1), len(class_0), len(class_1))\n",
    "\n",
    "# Undersample all classes to match the smallest class\n",
    "class_minus1_bal = resample(class_minus1, replace=False, n_samples=min_size, random_state=42)\n",
    "class_0_bal = resample(class_0, replace=False, n_samples=min_size, random_state=42)\n",
    "class_1_bal = resample(class_1, replace=False, n_samples=min_size, random_state=42)\n",
    "\n",
    "# Combine and shuffle\n",
    "balanced_train_data = class_minus1_bal + class_0_bal + class_1_bal\n",
    "np.random.shuffle(balanced_train_data)\n",
    "\n",
    "# Split back into sentences and labels\n",
    "train_sentences_bal, train_labels_bal = zip(*balanced_train_data)\n",
    "train_sentences_bal, train_labels_bal = list(train_sentences_bal), np.array(train_labels_bal)"
   ],
   "outputs": [],
   "execution_count": 29
  },
  {
   "cell_type": "markdown",
   "metadata": {
    "id": "Cx2ynP3ZzI2W"
   },
   "source": [
    "# Bag-of-words + Logistic Regression baseline"
   ]
  },
  {
   "cell_type": "code",
   "metadata": {
    "id": "bIIdOmcfzNcI",
    "ExecuteTime": {
     "end_time": "2025-04-18T12:03:33.804309Z",
     "start_time": "2025-04-18T12:00:42.790548Z"
    }
   },
   "source": [
    "import importlib\n",
    "import embeddings\n",
    "importlib.reload(embeddings) # This is so when I make changes in embeddings it will reload the changes instead of caching the old file.\n",
    "\n",
    "# ****** change the following to access different embeddings\n",
    "\n",
    "# embedding_model = embeddings.BOWEmbedding(ngram_range=(1, 2), max_features=10000, stop_words=None, min_df=1, max_df=1.0)  #baseline\n",
    "# embedding_model = embeddings.BOWEmbedding(ngram_range=(1, 2), max_features=10000, stop_words='english', min_df=10, max_df=0.9)\n",
    "# embedding_model = embeddings.TFIDFEmbedding(ngram_range=(1, 2), max_features=10000, stop_words=None, min_df=1, max_df=1.0)\n",
    "embedding_model = embeddings.Bert_base_uncased()\n",
    "# embedding_model = embeddings.Bert_variable_length() # This isn't working great for me\n",
    "# embedding_model = embeddings.Word2VecEmbedding2(\"GoogleNews-vectors-negative300.bin\", binary=True)\n",
    "\n",
    "\n",
    "# print(type(train_sentences_bal))\n",
    "\n",
    "n_samples = -1 # set to -1 to get all samples\n",
    "X_train = embedding_model.fit_transform(train_sentences_bal[:n_samples])#For quick testing with less data\n",
    "X_val = embedding_model.transform(val_sentences[:n_samples])\n",
    "\n",
    "Y_train = train_labels_bal[:n_samples] \n",
    "Y_val = val_labels[:n_samples]"
   ],
   "outputs": [
    {
     "name": "stderr",
     "output_type": "stream",
     "text": [
      "Processing batches: 100%|██████████| 1849/1849 [02:21<00:00, 13.03it/s]\n",
      "Processing batches: 100%|██████████| 320/320 [00:27<00:00, 11.63it/s]\n"
     ]
    }
   ],
   "execution_count": 95
  },
  {
   "metadata": {
    "ExecuteTime": {
     "end_time": "2025-04-18T11:58:45.673809Z",
     "start_time": "2025-04-18T11:58:45.669117Z"
    }
   },
   "cell_type": "code",
   "source": [
    "# print(type(train_sentences_bal[1]))\n",
    "# print(type(train_sentences_bal))\n",
    "# print(type(train_sentences))\n",
    "# print(type(val_labels))\n",
    "# print(type(val_labels[1]))\n",
    "# print(type(X_train))\n",
    "# print(type(X_val))\n",
    "# print(len(X_train[0]))\n",
    "# print(len(X_val[0]))\n",
    "# print(type(Y_train))\n",
    "# print(type(Y_val))"
   ],
   "outputs": [],
   "execution_count": 88
  },
  {
   "cell_type": "code",
   "metadata": {
    "ExecuteTime": {
     "end_time": "2025-04-18T09:02:16.864847Z",
     "start_time": "2025-04-18T09:02:16.860931Z"
    }
   },
   "source": "# print(X_train[0])",
   "outputs": [],
   "execution_count": 17
  },
  {
   "cell_type": "code",
   "metadata": {
    "ExecuteTime": {
     "end_time": "2025-04-18T12:03:33.946220Z",
     "start_time": "2025-04-18T12:03:33.880410Z"
    }
   },
   "source": [
    "from torch.utils.data import TensorDataset, DataLoader\n",
    "import custom_dataloader\n",
    "importlib.reload(custom_dataloader)\n",
    "\n",
    "#Initialize Dataloader If Necessary\n",
    "\n",
    "if embedding_model.is_variable_length:\n",
    "    dataset_train = custom_dataloader.EmbeddingDataset(X_train, Y_train)\n",
    "    dataset_val = custom_dataloader.EmbeddingDataset(X_val, Y_val)\n",
    "    # print(len(dataset_train))\n",
    "    train_loader = DataLoader(\n",
    "        dataset_train,\n",
    "        batch_size=16,\n",
    "        shuffle=True,\n",
    "        collate_fn=custom_dataloader.collate_fn,\n",
    "    )\n",
    "    train_loader_pred = DataLoader(\n",
    "        dataset_train,\n",
    "        batch_size=16,\n",
    "        collate_fn=custom_dataloader.collate_fn,\n",
    "    )\n",
    "    val_loader = DataLoader(\n",
    "        dataset_val,\n",
    "        batch_size=16,\n",
    "        collate_fn=custom_dataloader.collate_fn\n",
    "    )\n",
    "\n",
    "else:\n",
    "    X_train_tensor = torch.tensor(X_train, dtype=torch.float32)\n",
    "    y_train_tensor = torch.tensor(Y_train, dtype=torch.long)\n",
    "    X_val_tensor = torch.tensor(X_val, dtype=torch.float32)\n",
    "    y_val_tensor = torch.tensor(Y_val, dtype=torch.long)\n",
    "\n",
    "    train_loader = DataLoader(TensorDataset(X_train_tensor, y_train_tensor), batch_size=32, shuffle=True)\n",
    "    train_loader_pred = DataLoader(TensorDataset(X_train_tensor, y_train_tensor), batch_size=32)\n",
    "    val_loader = DataLoader(TensorDataset(X_val_tensor, y_val_tensor), batch_size=32)"
   ],
   "outputs": [],
   "execution_count": 96
  },
  {
   "cell_type": "code",
   "metadata": {
    "colab": {
     "base_uri": "https://localhost:8080/"
    },
    "id": "zoRQiuRu0xfu",
    "outputId": "e04fe629-49f2-41b5-f3a3-e471ab565984",
    "ExecuteTime": {
     "end_time": "2025-04-18T11:58:45.819694Z",
     "start_time": "2025-04-18T11:58:45.812142Z"
    }
   },
   "source": "# X_train",
   "outputs": [],
   "execution_count": 90
  },
  {
   "cell_type": "markdown",
   "metadata": {
    "id": "yKoKqofM1tJ7"
   },
   "source": [
    "Now we train a logistic regression classifier..."
   ]
  },
  {
   "cell_type": "code",
   "metadata": {
    "colab": {
     "base_uri": "https://localhost:8080/",
     "height": 220
    },
    "id": "fAZgje2l1vpR",
    "outputId": "bff6da81-b9bd-421c-d40e-aeb493e8b24c",
    "ExecuteTime": {
     "end_time": "2025-04-18T12:54:42.452740Z",
     "start_time": "2025-04-18T12:52:32.332834Z"
    }
   },
   "source": [
    "import models\n",
    "importlib.reload(models) # needed so it doesn't cache the functions\n",
    "\n",
    "# ******** Change this to change the model\n",
    "# model = models.Logistic_Regression_Baseline() \n",
    "# model = models.LinearMLP(input_dim = X_val.shape[1])\n",
    "# model = models.NonLinearMLP(input_dim = X_val.shape[1])\n",
    "model = models.DropoutMLP(input_dim = X_val.shape[1], lr = 0.00005)\n",
    "# model = models.LSTMClassifier(input_dim = X_val[0].shape[1], lr=0.00005, dropout=0.2, hidden_dim=256, num_layers=2)\n",
    "\n",
    "#If model requires dataloader, Load data into dataloader:\n",
    "if model.use_dataloader:\n",
    "    model.fit(train_loader,val_loader,epochs=20)\n",
    "else:   \n",
    "    model.fit(X_train,Y_train)"
   ],
   "outputs": [
    {
     "name": "stdout",
     "output_type": "stream",
     "text": [
      "Epoch 1/20: Train Loss: 0.2896, Acc: 0.4952 | Val Loss: 0.2402, Acc: 0.4083\n",
      "Epoch 2/20: Train Loss: 0.2421, Acc: 0.5849 | Val Loss: 0.2093, Acc: 0.6444\n",
      "Epoch 3/20: Train Loss: 0.2206, Acc: 0.6626 | Val Loss: 0.1952, Acc: 0.6803\n",
      "Epoch 4/20: Train Loss: 0.2122, Acc: 0.6693 | Val Loss: 0.1949, Acc: 0.6815\n",
      "Epoch 5/20: Train Loss: 0.2077, Acc: 0.6729 | Val Loss: 0.1887, Acc: 0.6892\n",
      "Epoch 6/20: Train Loss: 0.2047, Acc: 0.6757 | Val Loss: 0.1801, Acc: 0.6925\n",
      "Epoch 7/20: Train Loss: 0.2023, Acc: 0.6786 | Val Loss: 0.1852, Acc: 0.6914\n",
      "Epoch 8/20: Train Loss: 0.2006, Acc: 0.6806 | Val Loss: 0.1848, Acc: 0.6917\n",
      "Epoch 9/20: Train Loss: 0.1987, Acc: 0.6821 | Val Loss: 0.1863, Acc: 0.6914\n",
      "Epoch 10/20: Train Loss: 0.1974, Acc: 0.6854 | Val Loss: 0.1817, Acc: 0.6955\n",
      "Epoch 11/20: Train Loss: 0.1962, Acc: 0.6861 | Val Loss: 0.1817, Acc: 0.6966\n",
      "Epoch 12/20: Train Loss: 0.1943, Acc: 0.6898 | Val Loss: 0.1839, Acc: 0.6941\n",
      "Epoch 13/20: Train Loss: 0.1929, Acc: 0.6919 | Val Loss: 0.1801, Acc: 0.6965\n",
      "Epoch 14/20: Train Loss: 0.1919, Acc: 0.6938 | Val Loss: 0.1805, Acc: 0.6982\n",
      "Epoch 15/20: Train Loss: 0.1899, Acc: 0.6965 | Val Loss: 0.1821, Acc: 0.6958\n",
      "Epoch 16/20: Train Loss: 0.1898, Acc: 0.6969 | Val Loss: 0.1792, Acc: 0.7010\n",
      "Epoch 17/20: Train Loss: 0.1879, Acc: 0.6996 | Val Loss: 0.1799, Acc: 0.6997\n",
      "Epoch 18/20: Train Loss: 0.1865, Acc: 0.7024 | Val Loss: 0.1816, Acc: 0.6989\n",
      "Epoch 19/20: Train Loss: 0.1855, Acc: 0.7038 | Val Loss: 0.1823, Acc: 0.6976\n",
      "Epoch 20/20: Train Loss: 0.1844, Acc: 0.7060 | Val Loss: 0.1816, Acc: 0.6986\n"
     ]
    },
    {
     "data": {
      "text/plain": [
       "<Figure size 1200x400 with 2 Axes>"
      ],
      "image/png": "[encoded data removed]"
     },
     "metadata": {},
     "output_type": "display_data"
    }
   ],
   "execution_count": 112
  },
  {
   "cell_type": "code",
   "metadata": {
    "id": "1ZrFZpoO10Jj",
    "ExecuteTime": {
     "end_time": "2025-04-18T12:54:49.489133Z",
     "start_time": "2025-04-18T12:54:47.486095Z"
    }
   },
   "source": [
    "\n",
    "if model.use_dataloader:\n",
    "    Y_train_pred = model.predict(train_loader_pred)\n",
    "    # print(type(Y_train_pred))\n",
    "    # Predict on Validation Set\n",
    "    Y_val_pred = model.predict(val_loader)\n",
    "else: \n",
    "    Y_train_pred = model.predict(X_train)\n",
    "    # Predict on Validation Set\n",
    "    Y_val_pred = model.predict(X_val)"
   ],
   "outputs": [],
   "execution_count": 113
  },
  {
   "cell_type": "code",
   "metadata": {
    "id": "78F8MmkE2VwG",
    "ExecuteTime": {
     "end_time": "2025-04-18T12:54:51.966475Z",
     "start_time": "2025-04-18T12:54:51.952960Z"
    }
   },
   "source": [
    "from sklearn.metrics import mean_absolute_error\n",
    "# Score on Training Set\n",
    "mae_train = mean_absolute_error(Y_train, Y_train_pred)\n",
    "L_score_train = 0.5 * (2 - mae_train)\n",
    "# Score on Validation Set\n",
    "mae_val = mean_absolute_error(Y_val, Y_val_pred)\n",
    "L_score_val = 0.5 * (2 - mae_val)"
   ],
   "outputs": [],
   "execution_count": 114
  },
  {
   "cell_type": "code",
   "metadata": {
    "colab": {
     "base_uri": "https://localhost:8080/"
    },
    "id": "2cJaoHn328Z6",
    "outputId": "4da98d93-92d1-48ab-feed-5b80d9e47abb",
    "ExecuteTime": {
     "end_time": "2025-04-18T12:54:53.948437Z",
     "start_time": "2025-04-18T12:54:53.894392Z"
    }
   },
   "source": [
    "from sklearn.metrics import confusion_matrix\n",
    "print(f'Evaluation Score (training set): {L_score_train:.05f}')\n",
    "print(f'Evaluation Score (validation set): {L_score_val:.05f}')\n",
    "\n",
    "\n",
    "conf_matrix = confusion_matrix(Y_train,Y_train_pred, labels=[-1, 0, 1])\n",
    "print(conf_matrix)\n",
    "conf_matrix = confusion_matrix(Y_val,Y_val_pred, labels=[-1, 0, 1])\n",
    "print(conf_matrix)"
   ],
   "outputs": [
    {
     "name": "stdout",
     "output_type": "stream",
     "text": [
      "Evaluation Score (training set): 0.82310\n",
      "Evaluation Score (validation set): 0.81683\n",
      "[[14060  4045  1613]\n",
      " [ 2501 15547  1671]\n",
      " [ 2368  4750 12601]]\n",
      "[[1474  474  242]\n",
      " [ 703 3757  455]\n",
      " [ 421  782 1901]]\n"
     ]
    }
   ],
   "execution_count": 115
  },
  {
   "cell_type": "markdown",
   "metadata": {
    "id": "U_6EjfvtdmIT"
   },
   "source": [
    "# Test Data"
   ]
  },
  {
   "cell_type": "code",
   "metadata": {
    "id": "V1iiA4ujdnPT",
    "ExecuteTime": {
     "end_time": "2025-04-18T09:52:54.362372Z",
     "start_time": "2025-04-18T09:52:54.343686Z"
    }
   },
   "source": "test_data = pd.read_csv('data/test.csv',index_col = 0)",
   "outputs": [],
   "execution_count": 51
  },
  {
   "cell_type": "code",
   "metadata": {
    "colab": {
     "base_uri": "https://localhost:8080/",
     "height": 455
    },
    "id": "0-98d8Ktd8u-",
    "outputId": "4c532496-beb7-4b71-e9ee-cda3df93789b",
    "ExecuteTime": {
     "end_time": "2025-04-18T09:52:55.887185Z",
     "start_time": "2025-04-18T09:52:55.877713Z"
    }
   },
   "source": [
    "test_data"
   ],
   "outputs": [
    {
     "data": {
      "text/plain": [
       "                                                                                                                                sentence\n",
       "id                                                                                                                                      \n",
       "0                                                                                      Found Thai Spoon on the Vegan Pittsburgh website.\n",
       "1                                                                           Our bill came out to around $27 and we ate like the wealthy.\n",
       "2                                                                         State Farm broke down the costs for me of the parts and labor.\n",
       "3                                                                                 The only con for this resto is the wait to get a seat.\n",
       "4                                                                 We could hear the people above us stomping around even after midnight.\n",
       "...                                                                                                                                  ...\n",
       "11946                                               I went back in to ask for cilantro dressing the shift leader even smile or greet me.\n",
       "11947                                                           Here , Adrian Lyne comes as close to profundity as he is likely to get .\n",
       "11948                                           The actors are so terrific at conveying their young angst , we do indeed feel for them .\n",
       "11949  It should be mentioned that the set design and interiors of the haunted vessel are more than effectively creepy and moodily lit .\n",
       "11950                                                     She greeted customers by holding the scanner toward them without even looking.\n",
       "\n",
       "[11951 rows x 1 columns]"
      ],
      "text/html": [
       "<div>\n",
       "<style scoped>\n",
       "    .dataframe tbody tr th:only-of-type {\n",
       "        vertical-align: middle;\n",
       "    }\n",
       "\n",
       "    .dataframe tbody tr th {\n",
       "        vertical-align: top;\n",
       "    }\n",
       "\n",
       "    .dataframe thead th {\n",
       "        text-align: right;\n",
       "    }\n",
       "</style>\n",
       "<table border=\"1\" class=\"dataframe\">\n",
       "  <thead>\n",
       "    <tr style=\"text-align: right;\">\n",
       "      <th></th>\n",
       "      <th>sentence</th>\n",
       "    </tr>\n",
       "    <tr>\n",
       "      <th>id</th>\n",
       "      <th></th>\n",
       "    </tr>\n",
       "  </thead>\n",
       "  <tbody>\n",
       "    <tr>\n",
       "      <th>0</th>\n",
       "      <td>Found Thai Spoon on the Vegan Pittsburgh website.</td>\n",
       "    </tr>\n",
       "    <tr>\n",
       "      <th>1</th>\n",
       "      <td>Our bill came out to around $27 and we ate like the wealthy.</td>\n",
       "    </tr>\n",
       "    <tr>\n",
       "      <th>2</th>\n",
       "      <td>State Farm broke down the costs for me of the parts and labor.</td>\n",
       "    </tr>\n",
       "    <tr>\n",
       "      <th>3</th>\n",
       "      <td>The only con for this resto is the wait to get a seat.</td>\n",
       "    </tr>\n",
       "    <tr>\n",
       "      <th>4</th>\n",
       "      <td>We could hear the people above us stomping around even after midnight.</td>\n",
       "    </tr>\n",
       "    <tr>\n",
       "      <th>...</th>\n",
       "      <td>...</td>\n",
       "    </tr>\n",
       "    <tr>\n",
       "      <th>11946</th>\n",
       "      <td>I went back in to ask for cilantro dressing the shift leader even smile or greet me.</td>\n",
       "    </tr>\n",
       "    <tr>\n",
       "      <th>11947</th>\n",
       "      <td>Here , Adrian Lyne comes as close to profundity as he is likely to get .</td>\n",
       "    </tr>\n",
       "    <tr>\n",
       "      <th>11948</th>\n",
       "      <td>The actors are so terrific at conveying their young angst , we do indeed feel for them .</td>\n",
       "    </tr>\n",
       "    <tr>\n",
       "      <th>11949</th>\n",
       "      <td>It should be mentioned that the set design and interiors of the haunted vessel are more than effectively creepy and moodily lit .</td>\n",
       "    </tr>\n",
       "    <tr>\n",
       "      <th>11950</th>\n",
       "      <td>She greeted customers by holding the scanner toward them without even looking.</td>\n",
       "    </tr>\n",
       "  </tbody>\n",
       "</table>\n",
       "<p>11951 rows × 1 columns</p>\n",
       "</div>"
      ]
     },
     "execution_count": 52,
     "metadata": {},
     "output_type": "execute_result"
    }
   ],
   "execution_count": 52
  },
  {
   "cell_type": "code",
   "metadata": {
    "id": "V1cNuYsAdsYg",
    "ExecuteTime": {
     "end_time": "2025-04-18T09:52:05.333852Z",
     "start_time": "2025-04-18T09:51:37.837880Z"
    }
   },
   "source": [
    "X_test = embedding_model.transform(test_data['sentence'])\n",
    "\n",
    "\n",
    "# X_Custom_test = embedding_model.transform(np.array([\"if anyone wants to have the most delicious dinner, go somewhere else\"]))"
   ],
   "outputs": [
    {
     "name": "stderr",
     "output_type": "stream",
     "text": [
      "Processing batches: 100%|██████████| 374/374 [00:27<00:00, 13.61it/s]\n"
     ]
    }
   ],
   "execution_count": 48
  },
  {
   "cell_type": "code",
   "metadata": {
    "id": "qp5VgwqTeD2M",
    "ExecuteTime": {
     "end_time": "2025-04-18T09:53:16.019414Z",
     "start_time": "2025-04-18T09:53:15.485678Z"
    }
   },
   "source": [
    "if(embedding_model.is_variable_length):\n",
    "    dataset_test = custom_dataloader.EmbeddingDataset(X_test, Y_train)\n",
    "    # print(len(dataset_train))\n",
    "    test_loader = DataLoader(\n",
    "        dataset_train,\n",
    "        batch_size=16,\n",
    "        shuffle=True,\n",
    "        collate_fn=custom_dataloader.collate_fn,\n",
    "    )\n",
    "else:\n",
    "    if hasattr(X_test, 'toarray'):\n",
    "        X_test_tensor = torch.tensor(X_test.toarray(), dtype=torch.float32)\n",
    "    else:\n",
    "        X_test_tensor = torch.tensor(X_test, dtype=torch.float32)\n",
    "    test_loader = DataLoader(TensorDataset(X_test_tensor, X_test_tensor), batch_size=32)\n",
    "\n",
    "# print(X_test[0].shape)\n",
    "\n",
    "if model.use_dataloader:\n",
    "    y_test = model.predict(test_loader)\n",
    "else: \n",
    "    y_test = model.predict(X_test)\n",
    "# print(test_data.index)\n",
    "\n",
    "# y_test = model.predict(X_Custom_test)\n",
    "# print(y_test)"
   ],
   "outputs": [],
   "execution_count": 53
  },
  {
   "cell_type": "code",
   "metadata": {
    "colab": {
     "base_uri": "https://localhost:8080/"
    },
    "id": "W_rVrCrww-ZX",
    "outputId": "ec071f09-df37-481b-8b6d-4741f8f23be9",
    "ExecuteTime": {
     "end_time": "2025-04-18T09:53:18.398946Z",
     "start_time": "2025-04-18T09:53:18.375226Z"
    }
   },
   "source": [
    "# Save predictions in the correct format\n",
    "y_labels = pd.Series(y_test).map({-1: 'negative', 0: 'neutral', 1: 'positive'})\n",
    "submission = pd.DataFrame({'id': test_data.index, 'label': y_labels})\n",
    "submission.to_csv('test_predictions.csv', index=False) # Update filename and path as needed\n",
    "print(\"Test predictions saved to 'test_predictions.csv'\")"
   ],
   "outputs": [
    {
     "name": "stdout",
     "output_type": "stream",
     "text": [
      "Test predictions saved to 'test_predictions.csv'\n"
     ]
    }
   ],
   "execution_count": 54
  },
  {
   "cell_type": "markdown",
   "metadata": {
    "id": "FSCd2tL-4Eqj"
   },
   "source": [
    "# Model Interpretation"
   ]
  },
  {
   "cell_type": "code",
   "execution_count": 239,
   "metadata": {
    "colab": {
     "base_uri": "https://localhost:8080/"
    },
    "id": "TvOtKWdpERea",
    "outputId": "2189bff2-0cf3-4582-fc43-e3ceab061d9a"
   },
   "outputs": [
    {
     "ename": "AttributeError",
     "evalue": "'Bert_base_uncased' object has no attribute 'get_feature_names_out'",
     "output_type": "error",
     "traceback": [
      "\u001B[1;31m---------------------------------------------------------------------------\u001B[0m",
      "\u001B[1;31mAttributeError\u001B[0m                            Traceback (most recent call last)",
      "Cell \u001B[1;32mIn[239], line 2\u001B[0m\n\u001B[0;32m      1\u001B[0m \u001B[38;5;66;03m# Top N most Important Words & Word Pairs per Output Class (Pos, Neutral, Negative)\u001B[39;00m\n\u001B[1;32m----> 2\u001B[0m feature_names \u001B[38;5;241m=\u001B[39m \u001B[43membedding_model\u001B[49m\u001B[38;5;241;43m.\u001B[39;49m\u001B[43mget_feature_names_out\u001B[49m() \u001B[38;5;66;03m# get names of all tokens from vectorizer\u001B[39;00m\n\u001B[0;32m      3\u001B[0m coefs \u001B[38;5;241m=\u001B[39m model\u001B[38;5;241m.\u001B[39mcoef()  \u001B[38;5;66;03m# Weights per Feature for each Output Class; Shape: (Num_Output_Classes, Num_Features)\u001B[39;00m\n\u001B[0;32m      5\u001B[0m \u001B[38;5;66;03m# Get Top_n Features by Weight for each Class\u001B[39;00m\n",
      "\u001B[1;31mAttributeError\u001B[0m: 'Bert_base_uncased' object has no attribute 'get_feature_names_out'"
     ]
    }
   ],
   "source": [
    "# Top N most Important Words & Word Pairs per Output Class (Pos, Neutral, Negative)\n",
    "feature_names = embedding_model.get_feature_names_out() # get names of all tokens from vectorizer\n",
    "coefs = model.coef()  # Weights per Feature for each Output Class; Shape: (Num_Output_Classes, Num_Features)\n",
    "\n",
    "# Get Top_n Features by Weight for each Class\n",
    "def get_top_features(class_index, top_n=10):\n",
    "    class_coef = coefs[class_index]\n",
    "    top_indices = np.argsort(class_coef)[-top_n:]\n",
    "    return [feature_names[i] for i in reversed(top_indices)]\n",
    "\n",
    "print(\"Top words & bigrams for negative (-1):\", get_top_features(0))\n",
    "print(\"Top words & bigrams for positive (1):\", get_top_features(2))\n",
    "print(\"Top words & bigrams for neutral (0):\", get_top_features(1))"
   ]
  },
  {
   "cell_type": "code",
   "metadata": {
    "colab": {
     "base_uri": "https://localhost:8080/"
    },
    "id": "w5YTJmQqEwEH",
    "outputId": "4f370302-ac76-4c3f-b873-cbeb0c74ece5",
    "ExecuteTime": {
     "end_time": "2025-04-18T09:53:28.093250Z",
     "start_time": "2025-04-18T09:53:28.079804Z"
    }
   },
   "source": [
    "# Confusion Matrix - Negative, Neutral, Positive\n",
    "from sklearn.metrics import confusion_matrix\n",
    "\n",
    "conf_matrix = confusion_matrix(Y_val,Y_val_pred, labels=[-1, 0, 1])\n",
    "print(conf_matrix)"
   ],
   "outputs": [
    {
     "name": "stdout",
     "output_type": "stream",
     "text": [
      "[[1441  496  253]\n",
      " [ 650 3809  456]\n",
      " [ 390  799 1915]]\n"
     ]
    }
   ],
   "execution_count": 55
  },
  {
   "cell_type": "code",
   "execution_count": 187,
   "metadata": {
    "colab": {
     "base_uri": "https://localhost:8080/"
    },
    "id": "j5xVh6ZuHnzW",
    "outputId": "18f761fd-250d-46ab-b831-0ea0880e9697"
   },
   "outputs": [
    {
     "name": "stdout",
     "output_type": "stream",
     "text": [
      "True: positive, Pred: negative → We tried a trio of banana flavored dessert and I hate banana ... alas you wouldn't know that if you saw me eating this.\n",
      "True: neutral, Pred: negative → It might bother people that they live far from their work place.\n",
      "True: neutral, Pred: positive → He assures us that housekeeping will be up within 10 minutes to clean and sanitize the bathroom.\n",
      "True: neutral, Pred: positive → A place that the concierge recommended .\n",
      "True: positive, Pred: neutral → Could their be a better way to blow through 700+ Calories in one sitting?\n"
     ]
    }
   ],
   "source": [
    "# Examples of Misclassified Sentences\n",
    "number_examples = 5\n",
    "label_map = {-1: 'negative', 0: 'neutral', 1: 'positive'}\n",
    "\n",
    "misclassified = [\n",
    "    (label_map[true], label_map[pred], text)\n",
    "    for true, pred, text in zip(Y_val, Y_val_pred, val_sentences)\n",
    "    if true != pred\n",
    "]\n",
    "\n",
    "import random\n",
    "for true, pred, text in random.sample(misclassified, number_examples):\n",
    "    print(f\"True: {true}, Pred: {pred} → {text}\")"
   ]
  }
 ],
 "metadata": {
  "colab": {
   "provenance": []
  },
  "kernelspec": {
   "display_name": "torch_env",
   "language": "python",
   "name": "python3"
  },
  "language_info": {
   "codemirror_mode": {
    "name": "ipython",
    "version": 3
   },
   "file_extension": ".py",
   "mimetype": "text/x-python",
   "name": "python",
   "nbconvert_exporter": "python",
   "pygments_lexer": "ipython3",
   "version": "3.11.11"
  }
 },
 "nbformat": 4,
 "nbformat_minor": 0
}

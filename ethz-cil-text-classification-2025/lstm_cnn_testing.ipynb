{
 "cells": [
  {
   "cell_type": "code",
   "execution_count": 1,
   "outputs": [],
   "source": [
    "import numpy as np\n",
    "import pandas as pd\n",
    "import torch\n",
    "from torch.utils.data import DataLoader, TensorDataset\n",
    "from sklearn.model_selection import train_test_split\n",
    "\n",
    "import custom_dataloader\n",
    "import embeddings\n",
    "import models"
   ],
   "metadata": {
    "collapsed": false,
    "ExecuteTime": {
     "end_time": "2025-05-02T16:18:30.943164Z",
     "start_time": "2025-05-02T16:16:44.296090700Z"
    }
   },
   "id": "a96bbdaf036ae91"
  },
  {
   "cell_type": "code",
   "execution_count": 2,
   "id": "initial_id",
   "metadata": {
    "collapsed": true,
    "ExecuteTime": {
     "end_time": "2025-05-02T16:19:05.987808400Z",
     "start_time": "2025-05-02T16:19:05.522702Z"
    }
   },
   "outputs": [],
   "source": [
    "training_data = pd.read_csv('data/training.csv', index_col=0)\n",
    "label_mapping = {'negative': -1, 'neutral': 0, 'positive': 1}\n",
    "training_data['label_encoded'] = training_data['label'].map(label_mapping)\n",
    "\n",
    "sentences = training_data['sentence']\n",
    "labels = training_data['label_encoded']\n",
    "\n",
    "train_sentences, val_sentences, train_labels, val_labels = train_test_split(\n",
    "    sentences, labels, test_size=0.1, stratify=labels, random_state=42)"
   ]
  },
  {
   "cell_type": "code",
   "execution_count": null,
   "outputs": [],
   "source": [
    "embedder = embeddings.BertTokenEmbedder('FacebookAI/roberta-base')  # example model\n",
    "\n",
    "n_samples = 10  # set to -1 to get ALL samples\n",
    "n_val_samples = int(n_samples/10) if n_samples != -1 else -1\n",
    "\n",
    "X_train = embedder.fit_transform(list(train_sentences)[:n_samples])\n",
    "X_val = embedder.transform(list(val_sentences)[:n_val_samples])\n",
    "Y_train = np.array(train_labels[:n_samples])\n",
    "Y_val = np.array(val_labels[:n_val_samples])"
   ],
   "metadata": {
    "collapsed": false
   },
   "id": "768efba4a27fa7f2"
  },
  {
   "cell_type": "code",
   "execution_count": 4,
   "outputs": [],
   "source": [
    "dataset_train = custom_dataloader.EmbeddingDataset(X_train, Y_train)\n",
    "dataset_val = custom_dataloader.EmbeddingDataset(X_val, Y_val)"
   ],
   "metadata": {
    "collapsed": false,
    "ExecuteTime": {
     "end_time": "2025-05-02T16:19:56.942454100Z",
     "start_time": "2025-05-02T16:19:56.932077500Z"
    }
   },
   "id": "f44e348930cb7843"
  },
  {
   "cell_type": "code",
   "execution_count": 5,
   "outputs": [],
   "source": [
    "train_sampler = custom_dataloader.DynamicUnderSampler(Y_train, random_state=42)\n",
    "\n",
    "train_loader = DataLoader(\n",
    "    dataset_train,\n",
    "    sampler=train_sampler,    # <- here\n",
    "    batch_size=8,\n",
    "    collate_fn=custom_dataloader.collate_fn\n",
    ")\n",
    "val_loader = DataLoader(dataset_val, batch_size=64, collate_fn=custom_dataloader.collate_fn)\n"
   ],
   "metadata": {
    "collapsed": false,
    "ExecuteTime": {
     "end_time": "2025-05-02T16:19:59.002773400Z",
     "start_time": "2025-05-02T16:19:58.987448100Z"
    }
   },
   "id": "dae32cebd1aed4ab"
  },
  {
   "cell_type": "code",
   "execution_count": 6,
   "outputs": [
    {
     "name": "stderr",
     "output_type": "stream",
     "text": [
      "                                                                    \r"
     ]
    }
   ],
   "source": [
    "emb_train_loader = embedder.precompute_embeddings_token_level(train_loader)\n",
    "emb_val_loader = embedder.precompute_embeddings_token_level(val_loader, val=True)"
   ],
   "metadata": {
    "collapsed": false,
    "ExecuteTime": {
     "end_time": "2025-05-02T16:20:04.577537200Z",
     "start_time": "2025-05-02T16:20:01.478519500Z"
    }
   },
   "id": "a535bfd05ba52376"
  },
  {
   "cell_type": "code",
   "execution_count": null,
   "outputs": [],
   "source": [
    "input_dim = next(iter(emb_train_loader))[0].shape[-1]  # get embedding dimension\n",
    "model = models.BiRNNClassifier(\n",
    "    input_dim=input_dim,\n",
    "    hidden_dim=256,   \n",
    "    num_layers=3,\n",
    "    dropout=0.2,\n",
    "    lr=0.0005\n",
    ")\n",
    "\n",
    "model.fit(emb_train_loader, emb_val_loader, epochs=5)"
   ],
   "metadata": {
    "collapsed": false
   },
   "id": "fbe11b1a366be5dd"
  },
  {
   "cell_type": "code",
   "execution_count": null,
   "outputs": [],
   "source": [
    "input_dim = next(iter(emb_train_loader))[0].shape[-1]\n",
    "model = models.TextCNNClassifier(input_dim=input_dim, lr=0.001, kernel_sizes=[2,4,6,8], num_filters=128)\n",
    "model.fit(emb_train_loader, emb_val_loader, epochs=5)"
   ],
   "metadata": {
    "collapsed": false
   },
   "id": "255d6494fe761961"
  },
  {
   "cell_type": "code",
   "execution_count": null,
   "outputs": [],
   "source": [
    "from sklearn.metrics import mean_absolute_error, confusion_matrix\n",
    "\n",
    "Y_val_pred = model.predict(emb_val_loader)\n",
    "mae_val = mean_absolute_error(Y_val, Y_val_pred)\n",
    "L_score_val = 0.5 * (2 - mae_val)\n",
    "print(f\"Validation Score (L): {L_score_val:.5f}\")\n",
    "\n",
    "conf_matrix = confusion_matrix(Y_val, Y_val_pred, labels=[-1, 0, 1])\n",
    "print(conf_matrix)"
   ],
   "metadata": {
    "collapsed": false
   },
   "id": "70eb295c3335d17c"
  }
 ],
 "metadata": {
  "kernelspec": {
   "display_name": "Python 3",
   "language": "python",
   "name": "python3"
  },
  "language_info": {
   "codemirror_mode": {
    "name": "ipython",
    "version": 2
   },
   "file_extension": ".py",
   "mimetype": "text/x-python",
   "name": "python",
   "nbconvert_exporter": "python",
   "pygments_lexer": "ipython2",
   "version": "2.7.6"
  }
 },
 "nbformat": 4,
 "nbformat_minor": 5
}
